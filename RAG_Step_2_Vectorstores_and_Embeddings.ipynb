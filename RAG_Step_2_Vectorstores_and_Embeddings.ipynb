{
  "nbformat": 4,
  "nbformat_minor": 0,
  "metadata": {
    "colab": {
      "provenance": [],
      "authorship_tag": "ABX9TyPwqIlOZm4xqGpchZ1/hZlH",
      "include_colab_link": true
    },
    "kernelspec": {
      "name": "python3",
      "display_name": "Python 3"
    },
    "language_info": {
      "name": "python"
    }
  },
  "cells": [
    {
      "cell_type": "markdown",
      "metadata": {
        "id": "view-in-github",
        "colab_type": "text"
      },
      "source": [
        "<a href=\"https://colab.research.google.com/github/Rami-RK/Retrieval_Augmented_Generation_RAG/blob/main/RAG_Step_2_Vectorstores_and_Embeddings.ipynb\" target=\"_parent\"><img src=\"https://colab.research.google.com/assets/colab-badge.svg\" alt=\"Open In Colab\"/></a>"
      ]
    },
    {
      "cell_type": "markdown",
      "source": [
        "## **RAG: Step 2 - Vectorstores and Embeddings**\n"
      ],
      "metadata": {
        "id": "iRHbsZGQ9ady"
      }
    },
    {
      "cell_type": "markdown",
      "source": [
        "### **Objectives**\n",
        "\n",
        "At the end of the experiment you will be able to :\n",
        "\n",
        "1. convert documentd into embeddings\n",
        "2. understand the similarity measurement between two document\n",
        "3. uderatand & store embeddings into the `Vector Store  Database`\n",
        "4. download & store the Vector Database for future re-use"
      ],
      "metadata": {
        "id": "V0muCIY83gFs"
      }
    },
    {
      "cell_type": "markdown",
      "source": [
        "### **Installing and importing packages**"
      ],
      "metadata": {
        "id": "_F8Qs4pD4TPh"
      }
    },
    {
      "cell_type": "code",
      "execution_count": 55,
      "metadata": {
        "id": "v_8u1Kd_9E8T"
      },
      "outputs": [],
      "source": [
        "!pip install openai"
      ]
    },
    {
      "cell_type": "code",
      "source": [
        "!pip install langchain"
      ],
      "metadata": {
        "id": "ACBPpsxn9aJX"
      },
      "execution_count": null,
      "outputs": []
    },
    {
      "cell_type": "code",
      "source": [
        "!pip install pypdf"
      ],
      "metadata": {
        "colab": {
          "base_uri": "https://localhost:8080/"
        },
        "id": "-FfbA_Bw9aL-",
        "outputId": "cde00229-7502-4204-d2a3-dfe3af33c164"
      },
      "execution_count": 57,
      "outputs": [
        {
          "output_type": "stream",
          "name": "stdout",
          "text": [
            "Requirement already satisfied: pypdf in /usr/local/lib/python3.10/dist-packages (3.16.2)\n"
          ]
        }
      ]
    },
    {
      "cell_type": "code",
      "source": [
        "! pip install chromadb"
      ],
      "metadata": {
        "id": "v5TgTY7EDjuP"
      },
      "execution_count": null,
      "outputs": []
    },
    {
      "cell_type": "code",
      "source": [
        "import os\n",
        "import openai\n",
        "import numpy as np"
      ],
      "metadata": {
        "id": "rXs7-BbF9aOs"
      },
      "execution_count": 59,
      "outputs": []
    },
    {
      "cell_type": "markdown",
      "source": [
        "#### **Authentication for OpenAI API**"
      ],
      "metadata": {
        "id": "bJ8V8Yit4YXo"
      }
    },
    {
      "cell_type": "code",
      "source": [
        "f = open('/content/openapi_key.txt')\n",
        "api_key = f.read()\n",
        "type(api_key)"
      ],
      "metadata": {
        "colab": {
          "base_uri": "https://localhost:8080/"
        },
        "id": "cVwDUYlf9aRU",
        "outputId": "5cabecd3-2555-43a1-a0c4-eebe97258572"
      },
      "execution_count": 6,
      "outputs": [
        {
          "output_type": "execute_result",
          "data": {
            "text/plain": [
              "str"
            ]
          },
          "metadata": {},
          "execution_count": 6
        }
      ]
    },
    {
      "cell_type": "code",
      "source": [
        "os.environ['OPENAI_API_KEY'] = api_key\n",
        "openai.api_key= os.getenv('OPENAI_API_KEY')"
      ],
      "metadata": {
        "id": "tBidLos09aT2"
      },
      "execution_count": 7,
      "outputs": []
    },
    {
      "cell_type": "markdown",
      "source": [
        "### **Loading the documents**"
      ],
      "metadata": {
        "id": "kcI7uxmmC8Vo"
      }
    },
    {
      "cell_type": "code",
      "source": [
        "from langchain.document_loaders import PyPDFLoader\n",
        "\n",
        "# Load PDF\n",
        "loaders = [\n",
        "    # Duplicate documents on purpose - messy data\n",
        "    PyPDFLoader(\"/content/doc1.pdf\"),\n",
        "    PyPDFLoader(\"/content/doc1.pdf\"),\n",
        "    PyPDFLoader(\"/content/doc2.pdf\"),\n",
        "]\n",
        "docs = []\n",
        "for loader in loaders:\n",
        "    docs.extend(loader.load())"
      ],
      "metadata": {
        "id": "BTV9sEU3C-cz"
      },
      "execution_count": 60,
      "outputs": []
    },
    {
      "cell_type": "code",
      "source": [
        "# Split\n",
        "from langchain.text_splitter import RecursiveCharacterTextSplitter\n",
        "text_splitter = RecursiveCharacterTextSplitter(\n",
        "    chunk_size = 1000,\n",
        "    chunk_overlap = 20\n",
        ")"
      ],
      "metadata": {
        "id": "aroRSX4gDBTL"
      },
      "execution_count": 61,
      "outputs": []
    },
    {
      "cell_type": "code",
      "source": [
        "splits = text_splitter.split_documents(docs)"
      ],
      "metadata": {
        "id": "gfW3YEteDC6L"
      },
      "execution_count": 62,
      "outputs": []
    },
    {
      "cell_type": "code",
      "source": [
        "len(splits)"
      ],
      "metadata": {
        "colab": {
          "base_uri": "https://localhost:8080/"
        },
        "id": "wQIVIUs7DEzr",
        "outputId": "521ba05d-ac3f-42a1-9a8d-c7ea3c3241a9"
      },
      "execution_count": 63,
      "outputs": [
        {
          "output_type": "execute_result",
          "data": {
            "text/plain": [
              "10"
            ]
          },
          "metadata": {},
          "execution_count": 63
        }
      ]
    },
    {
      "cell_type": "code",
      "source": [
        "splits"
      ],
      "metadata": {
        "id": "bb6RWvbMbOqp"
      },
      "execution_count": null,
      "outputs": []
    },
    {
      "cell_type": "markdown",
      "source": [
        "### **Embeddings**\n",
        "\n",
        "Let's take our splits and embed them."
      ],
      "metadata": {
        "id": "sV4zvjPqDHRW"
      }
    },
    {
      "cell_type": "code",
      "source": [
        "!pip install tiktoken"
      ],
      "metadata": {
        "id": "2T_67P-IFVJ4"
      },
      "execution_count": 64,
      "outputs": []
    },
    {
      "cell_type": "code",
      "source": [
        "from langchain.embeddings.openai import OpenAIEmbeddings\n",
        "embedding = OpenAIEmbeddings()"
      ],
      "metadata": {
        "id": "f-tTV6AZDKB3"
      },
      "execution_count": 13,
      "outputs": []
    },
    {
      "cell_type": "markdown",
      "source": [
        "### **Understanding similarity search with a toy example**"
      ],
      "metadata": {
        "id": "3abtvTCi6FU9"
      }
    },
    {
      "cell_type": "code",
      "source": [
        "sentence1 = \"i like dogs\"\n",
        "sentence2 = \"i like cats\"\n",
        "sentence3 = \"the weather is ugly, too hot outside\""
      ],
      "metadata": {
        "id": "L0jVO3kbDMAi"
      },
      "execution_count": 66,
      "outputs": []
    },
    {
      "cell_type": "code",
      "source": [
        "embedding1 = embedding.embed_query(sentence1)\n",
        "embedding2 = embedding.embed_query(sentence2)\n",
        "embedding3 = embedding.embed_query(sentence3)"
      ],
      "metadata": {
        "id": "hAZme9VuDN0n"
      },
      "execution_count": 67,
      "outputs": []
    },
    {
      "cell_type": "code",
      "source": [
        "len(embedding1), len(embedding2), len(embedding3)"
      ],
      "metadata": {
        "colab": {
          "base_uri": "https://localhost:8080/"
        },
        "id": "AetDDAAZ_Pa9",
        "outputId": "7c3ec1b3-4e02-4886-b4f0-164d8c376cb7"
      },
      "execution_count": 68,
      "outputs": [
        {
          "output_type": "execute_result",
          "data": {
            "text/plain": [
              "(1536, 1536, 1536)"
            ]
          },
          "metadata": {},
          "execution_count": 68
        }
      ]
    },
    {
      "cell_type": "code",
      "source": [
        "embedding1"
      ],
      "metadata": {
        "id": "x4-9Q-35brbN"
      },
      "execution_count": null,
      "outputs": []
    },
    {
      "cell_type": "code",
      "source": [
        "np.dot(embedding1, embedding2)"
      ],
      "metadata": {
        "colab": {
          "base_uri": "https://localhost:8080/"
        },
        "id": "WrhjObu_DRJb",
        "outputId": "3dfeb78f-f780-4729-ffcd-61ee1f97d342"
      },
      "execution_count": 70,
      "outputs": [
        {
          "output_type": "execute_result",
          "data": {
            "text/plain": [
              "0.9205685499367217"
            ]
          },
          "metadata": {},
          "execution_count": 70
        }
      ]
    },
    {
      "cell_type": "code",
      "source": [
        "np.dot(embedding1, embedding3)"
      ],
      "metadata": {
        "colab": {
          "base_uri": "https://localhost:8080/"
        },
        "id": "EjqRUgfDDcuW",
        "outputId": "3b66403b-e8ec-499a-808e-b3c2168fd691"
      },
      "execution_count": 71,
      "outputs": [
        {
          "output_type": "execute_result",
          "data": {
            "text/plain": [
              "0.7648378172547102"
            ]
          },
          "metadata": {},
          "execution_count": 71
        }
      ]
    },
    {
      "cell_type": "code",
      "source": [
        "np.dot(embedding2, embedding3)"
      ],
      "metadata": {
        "colab": {
          "base_uri": "https://localhost:8080/"
        },
        "id": "UbHuEuX-DeLp",
        "outputId": "64ba38a8-4655-4559-81ee-ab3183845623"
      },
      "execution_count": 72,
      "outputs": [
        {
          "output_type": "execute_result",
          "data": {
            "text/plain": [
              "0.7595550064713039"
            ]
          },
          "metadata": {},
          "execution_count": 72
        }
      ]
    },
    {
      "cell_type": "markdown",
      "source": [
        "### **Vectorstores**"
      ],
      "metadata": {
        "id": "wHavQULoDpPo"
      }
    },
    {
      "cell_type": "code",
      "source": [
        "from langchain.vectorstores import Chroma # Light-weight and in memory"
      ],
      "metadata": {
        "id": "diks6NtNDm_c"
      },
      "execution_count": 73,
      "outputs": []
    },
    {
      "cell_type": "code",
      "source": [
        "persist_directory = 'docs/chroma/'"
      ],
      "metadata": {
        "id": "ScV-sMzSDhE_"
      },
      "execution_count": 75,
      "outputs": []
    },
    {
      "cell_type": "code",
      "source": [
        "!rm -rf ./docs/chroma  # remove old database files if any"
      ],
      "metadata": {
        "id": "rAZWGH_7DnBv"
      },
      "execution_count": 76,
      "outputs": []
    },
    {
      "cell_type": "code",
      "source": [
        "vectordb = Chroma.from_documents(\n",
        "    documents=splits, # splits we created earlier\n",
        "    embedding=embedding,\n",
        "    persist_directory=persist_directory # save the directory\n",
        ")"
      ],
      "metadata": {
        "id": "zSb2hh1UDnEV"
      },
      "execution_count": 77,
      "outputs": []
    },
    {
      "cell_type": "code",
      "source": [
        "print(vectordb._collection.count()) # same as number of splites"
      ],
      "metadata": {
        "colab": {
          "base_uri": "https://localhost:8080/"
        },
        "id": "9E8Uvfk5DnGq",
        "outputId": "58615148-96ee-4bad-e3f1-0c6fd57935d2"
      },
      "execution_count": 78,
      "outputs": [
        {
          "output_type": "stream",
          "name": "stdout",
          "text": [
            "10\n"
          ]
        }
      ]
    },
    {
      "cell_type": "markdown",
      "source": [
        "### **Similarity Search**"
      ],
      "metadata": {
        "id": "F_2WYFZ5EHLm"
      }
    },
    {
      "cell_type": "code",
      "source": [
        "question = \"What does it say about Mahatma Gandhi?\""
      ],
      "metadata": {
        "id": "a2appHVEDykr"
      },
      "execution_count": 83,
      "outputs": []
    },
    {
      "cell_type": "code",
      "source": [
        "docs = vectordb.similarity_search(question,k=3) # k --> No. of doc as return"
      ],
      "metadata": {
        "id": "Rf4D-JP4D0RF"
      },
      "execution_count": 84,
      "outputs": []
    },
    {
      "cell_type": "code",
      "source": [
        "len(docs)"
      ],
      "metadata": {
        "colab": {
          "base_uri": "https://localhost:8080/"
        },
        "id": "EyQSb6sJD17w",
        "outputId": "b3eea554-f423-458b-9b69-a31642ebee8b"
      },
      "execution_count": 85,
      "outputs": [
        {
          "output_type": "execute_result",
          "data": {
            "text/plain": [
              "3"
            ]
          },
          "metadata": {},
          "execution_count": 85
        }
      ]
    },
    {
      "cell_type": "code",
      "source": [
        "print(docs[0].page_content)"
      ],
      "metadata": {
        "colab": {
          "base_uri": "https://localhost:8080/"
        },
        "id": "9gMWqkChD6F5",
        "outputId": "399af93b-0b0c-416f-e8bc-b5cd895f23d8"
      },
      "execution_count": 86,
      "outputs": [
        {
          "output_type": "stream",
          "name": "stdout",
          "text": [
            "India's struggle for independence from British colonial rule is a significant chapter in its history. \n",
            "Led by Mahatma Gandhi and other freedom fighters, the non-violent resistance movement \n",
            "gained momentum and eventually led to India's independence on August 15, 1947. This day is \n",
            "celebrated annually as Independence Day.\n",
            "India's economy is one of the fastest-growing in the world. It has transitioned from an agrarian \n",
            "economy to a service-oriented and industrialized economy. The country is known for its \n",
            "software and information technology services, pharmaceuticals, textiles, agriculture, and \n",
            "manufacturing sectors. Major cities like Mumbai, Delhi, Bangalore, and Chennai are hubs of \n",
            "business and commerce, attracting investments and fostering innovation.\n",
            "Delhi is the capital of India\n"
          ]
        }
      ]
    },
    {
      "cell_type": "code",
      "source": [
        "docs[1].page_content"
      ],
      "metadata": {
        "colab": {
          "base_uri": "https://localhost:8080/",
          "height": 105
        },
        "id": "RrFoAv1R5I8M",
        "outputId": "4eb13438-b2ee-4e2a-fe06-48efc1cf3f05"
      },
      "execution_count": 87,
      "outputs": [
        {
          "output_type": "execute_result",
          "data": {
            "text/plain": [
              "\"India's struggle for independence from British colonial rule is a significant chapter in its history. \\nLed by Mahatma Gandhi and other freedom fighters, the non-violent resistance movement \\ngained momentum and eventually led to India's independence on August 15, 1947. This day is \\ncelebrated annually as Independence Day.\\nIndia's economy is one of the fastest-growing in the world. It has transitioned from an agrarian \\neconomy to a service-oriented and industrialized economy. The country is known for its \\nsoftware and information technology services, pharmaceuticals, textiles, agriculture, and \\nmanufacturing sectors. Major cities like Mumbai, Delhi, Bangalore, and Chennai are hubs of \\nbusiness and commerce, attracting investments and fostering innovation.\\nDelhi is the capital of India\""
            ],
            "application/vnd.google.colaboratory.intrinsic+json": {
              "type": "string"
            }
          },
          "metadata": {},
          "execution_count": 87
        }
      ]
    },
    {
      "cell_type": "code",
      "source": [
        "docs[2].page_content"
      ],
      "metadata": {
        "colab": {
          "base_uri": "https://localhost:8080/",
          "height": 105
        },
        "id": "ooT3j7Iw5MC4",
        "outputId": "3658d2b2-d78e-4098-a847-0e91a64a8914"
      },
      "execution_count": 88,
      "outputs": [
        {
          "output_type": "execute_result",
          "data": {
            "text/plain": [
              "\"India's diplomatic influence is also growing on the global stage. The country actively \\nparticipates in international forums and has strong bilateral relations with nations around the \\nworld. India is a founding member of the Non-Aligned Movement and plays an active role in \\nvarious international organizations, such as the United Nations and World Trade Organization.\\nIn conclusion, India is a vast and diverse country with a rich cultural heritage, stunning \\nlandscapes, and a rapidly growing economy. It is a nation where ancient traditions coexist with \\nmodern aspirations. Despite its challenges, India continues to evolve and leave an indelible \\nmark on the world, making it a fascinating and dynamic country to explore.\""
            ],
            "application/vnd.google.colaboratory.intrinsic+json": {
              "type": "string"
            }
          },
          "metadata": {},
          "execution_count": 88
        }
      ]
    },
    {
      "cell_type": "markdown",
      "source": [
        "Let's save this so we can use it later!"
      ],
      "metadata": {
        "id": "rku54M3LD-xp"
      }
    },
    {
      "cell_type": "code",
      "source": [
        "vectordb.persist()"
      ],
      "metadata": {
        "id": "rcEd7Ts4D8A2"
      },
      "execution_count": 43,
      "outputs": []
    },
    {
      "cell_type": "markdown",
      "source": [
        "### **Edge case where failure may happen**\n",
        "\n",
        "This seems great, and basic similarity search will get you 80% of the way there very easily.\n",
        "\n",
        "But there are some failure modes that can creep up.\n"
      ],
      "metadata": {
        "id": "DlS_R3VqJkRK"
      }
    },
    {
      "cell_type": "markdown",
      "source": [
        "**Failure Example 1**"
      ],
      "metadata": {
        "id": "as-0wIafBwLD"
      }
    },
    {
      "cell_type": "code",
      "source": [
        "question= 'what did they say about cultural heritage?'"
      ],
      "metadata": {
        "id": "rGkScqCLJn7o"
      },
      "execution_count": 89,
      "outputs": []
    },
    {
      "cell_type": "code",
      "source": [
        "docs = vectordb.similarity_search(question,k=5)"
      ],
      "metadata": {
        "id": "54mqOs4dJn-b"
      },
      "execution_count": 90,
      "outputs": []
    },
    {
      "cell_type": "markdown",
      "source": [
        "Notice that we're getting duplicate chunks (because of the duplicate `doc1.pdf` in the index).\n",
        "\n",
        "Semantic search fetches all similar documents, but does not enforce diversity.\n",
        "\n",
        "`docs[0]` and `docs[1]` are indentical."
      ],
      "metadata": {
        "id": "iBg2VOhUKmNb"
      }
    },
    {
      "cell_type": "code",
      "source": [
        "docs[0]"
      ],
      "metadata": {
        "colab": {
          "base_uri": "https://localhost:8080/"
        },
        "id": "k7ka2XeHJoCG",
        "outputId": "dd8a6855-b3c3-458b-cc1a-1da9b71a4731"
      },
      "execution_count": 91,
      "outputs": [
        {
          "output_type": "execute_result",
          "data": {
            "text/plain": [
              "Document(page_content=\"India's cultural heritage is preserved in its ancient monuments and UNESCO World Heritage \\nSites. From the intricate carvings of Khajuraho temples to the majestic forts of Rajasthan, these\\narchitectural marvels reflect India's rich history and artistic traditions.\\nIndia's diversity extends to its languages as well. While Hindi and English are the official \\nlanguages at the national level, there are 22 officially recognized regional languages, including \\nBengali, Tamil, Telugu, Marathi, Urdu, Punjabi, and Gujarati, among others. This linguistic \\ndiversity is a testament to India's multicultural ethos.\\nIn recent years, India has made significant strides in space exploration. The Indian Space \\nResearch Organization (ISRO) has successfully launched satellites and missions, including the\\nMars Orbiter Mission (MOM), also known as Mangalyaan. These achievements have placed \\nIndia among the elite group of nations with advanced space programs.\", metadata={'page': 0, 'source': '/content/doc2.pdf'})"
            ]
          },
          "metadata": {},
          "execution_count": 91
        }
      ]
    },
    {
      "cell_type": "code",
      "source": [
        "docs[1]"
      ],
      "metadata": {
        "colab": {
          "base_uri": "https://localhost:8080/"
        },
        "id": "FBgaqkqlKcdU",
        "outputId": "df07463b-d4b7-4118-848c-00ced456bbf3"
      },
      "execution_count": 92,
      "outputs": [
        {
          "output_type": "execute_result",
          "data": {
            "text/plain": [
              "Document(page_content=\"India has a rich cultural heritage that has evolved over thousands of years. It is home to various\\nreligions, including Hinduism, Islam, Christianity, Sikhism, Buddhism, and Jainism, among \\nothers. These religions coexist harmoniously, contributing to India's multicultural fabric. \\nFestivals like Diwali, Eid, Christmas, and Holi are celebrated with great enthusiasm and bring \\npeople from different communities together.\\nThe history of India is characterized by ancient civilizations, invasions, and the establishment of\\npowerful empires. The Indus Valley Civilization, one of the world's oldest urban civilizations, \\nflourished in the northwestern part of the Indian subcontinent around 2500 BCE. Over the \\ncenturies, India witnessed the rise and fall of several dynasties, including the Maurya, Gupta, \\nand Mughal empires. The Mughal period, in particular, left a lasting impact on Indian culture, \\nart, and architecture.\", metadata={'page': 0, 'source': '/content/doc1.pdf'})"
            ]
          },
          "metadata": {},
          "execution_count": 92
        }
      ]
    },
    {
      "cell_type": "markdown",
      "source": [
        "**Failure Example 2**"
      ],
      "metadata": {
        "id": "yyVPUNluB7F2"
      }
    },
    {
      "cell_type": "markdown",
      "source": [
        "We can see a new failure mode.\n",
        "\n",
        "The question below asks a question from second doc, but includes results from other doc as well."
      ],
      "metadata": {
        "id": "KtJjBPPeKqii"
      }
    },
    {
      "cell_type": "code",
      "source": [
        "question = \"what did they say about about Tourism?\""
      ],
      "metadata": {
        "id": "S4UHOuhCKo1S"
      },
      "execution_count": 93,
      "outputs": []
    },
    {
      "cell_type": "code",
      "source": [
        "docs = vectordb.similarity_search(question,k=5)"
      ],
      "metadata": {
        "id": "Qx8xH94TK2AG"
      },
      "execution_count": 94,
      "outputs": []
    },
    {
      "cell_type": "code",
      "source": [
        "for doc in docs:\n",
        "    print(doc.metadata) # metadata contains information about from which doc the answer has been fetched"
      ],
      "metadata": {
        "colab": {
          "base_uri": "https://localhost:8080/"
        },
        "id": "ChrE1ahBK3qF",
        "outputId": "45bce4c6-cb9a-46d8-9add-7498e72739be"
      },
      "execution_count": 95,
      "outputs": [
        {
          "output_type": "stream",
          "name": "stdout",
          "text": [
            "{'page': 0, 'source': '/content/doc2.pdf'}\n",
            "{'page': 1, 'source': '/content/doc2.pdf'}\n",
            "{'page': 0, 'source': '/content/doc2.pdf'}\n",
            "{'page': 0, 'source': '/content/doc2.pdf'}\n",
            "{'page': 0, 'source': '/content/doc1.pdf'}\n"
          ]
        }
      ]
    },
    {
      "cell_type": "code",
      "source": [
        "print(docs[0].page_content)"
      ],
      "metadata": {
        "colab": {
          "base_uri": "https://localhost:8080/"
        },
        "id": "lFaVrynCOA-b",
        "outputId": "b680e88a-603b-4588-ed54-548804a9ac4c"
      },
      "execution_count": 97,
      "outputs": [
        {
          "output_type": "stream",
          "name": "stdout",
          "text": [
            "India's cultural heritage is preserved in its ancient monuments and UNESCO World Heritage \n",
            "Sites. From the intricate carvings of Khajuraho temples to the majestic forts of Rajasthan, these\n",
            "architectural marvels reflect India's rich history and artistic traditions.\n",
            "India's diversity extends to its languages as well. While Hindi and English are the official \n",
            "languages at the national level, there are 22 officially recognized regional languages, including \n",
            "Bengali, Tamil, Telugu, Marathi, Urdu, Punjabi, and Gujarati, among others. This linguistic \n",
            "diversity is a testament to India's multicultural ethos.\n",
            "In recent years, India has made significant strides in space exploration. The Indian Space \n",
            "Research Organization (ISRO) has successfully launched satellites and missions, including the\n",
            "Mars Orbiter Mission (MOM), also known as Mangalyaan. These achievements have placed \n",
            "India among the elite group of nations with advanced space programs.\n"
          ]
        }
      ]
    },
    {
      "cell_type": "code",
      "source": [
        "print(docs[1].page_content)"
      ],
      "metadata": {
        "colab": {
          "base_uri": "https://localhost:8080/"
        },
        "id": "rULqlwaCOE4j",
        "outputId": "2b7355f4-be7a-4bba-d3a2-b0ae404735ea"
      },
      "execution_count": 98,
      "outputs": [
        {
          "output_type": "stream",
          "name": "stdout",
          "text": [
            "India's diplomatic influence is also growing on the global stage. The country actively \n",
            "participates in international forums and has strong bilateral relations with nations around the \n",
            "world. India is a founding member of the Non-Aligned Movement and plays an active role in \n",
            "various international organizations, such as the United Nations and World Trade Organization.\n",
            "In conclusion, India is a vast and diverse country with a rich cultural heritage, stunning \n",
            "landscapes, and a rapidly growing economy. It is a nation where ancient traditions coexist with \n",
            "modern aspirations. Despite its challenges, India continues to evolve and leave an indelible \n",
            "mark on the world, making it a fascinating and dynamic country to explore.\n"
          ]
        }
      ]
    },
    {
      "cell_type": "code",
      "source": [
        "print(docs[2].page_content)"
      ],
      "metadata": {
        "colab": {
          "base_uri": "https://localhost:8080/"
        },
        "id": "RCY89NuqK3xY",
        "outputId": "b4ac21d2-94ac-4293-d57d-21824dbb7cb5"
      },
      "execution_count": 99,
      "outputs": [
        {
          "output_type": "stream",
          "name": "stdout",
          "text": [
            "worldwide.\n",
            "Indian cuisine is renowned for its flavors, spices, and regional specialties. Each state has its \n",
            "own culinary traditions, offering a wide range of vegetarian and non-vegetarian dishes. Indian \n",
            "food has gained international popularity, with dishes like curry, biryani, dosa, and tandoori \n",
            "being enjoyed by people worldwide.\n",
            "The Indian rupee is the official currency in the Republic of India. The rupee is subdivided into \n",
            "100 paise. The issuance of the currency is controlled by the Reserve Bank of India.\n",
            "₹ The Indian rupee sign ( ) is the currency symbol for the Indian rupee the official currency of \n",
            "India\n",
            "Tourism is a significant contributor to India's economy. The country attracts millions of visitors \n",
            "each year who come to explore its historical sites, architectural wonders, wildlife sanctuaries, \n",
            "and scenic landscapes. Iconic landmarks such as the Taj Mahal, Jaipur's palaces, Kerala's \n",
            "backwaters, and the beaches of Goa are popular tourist destinations.\n"
          ]
        }
      ]
    },
    {
      "cell_type": "code",
      "source": [
        "print(docs[3].page_content)"
      ],
      "metadata": {
        "id": "1HljNVxeOK64"
      },
      "execution_count": null,
      "outputs": []
    },
    {
      "cell_type": "code",
      "source": [
        "print(docs[4].page_content)"
      ],
      "metadata": {
        "colab": {
          "base_uri": "https://localhost:8080/"
        },
        "id": "gr4lpD7RON-1",
        "outputId": "ae00d9c2-1044-4ba2-c9aa-148ec579c0e8"
      },
      "execution_count": 96,
      "outputs": [
        {
          "output_type": "stream",
          "name": "stdout",
          "text": [
            "India's struggle for independence from British colonial rule is a significant chapter in its history. \n",
            "Led by Mahatma Gandhi and other freedom fighters, the non-violent resistance movement \n",
            "gained momentum and eventually led to India's independence on August 15, 1947. This day is \n",
            "celebrated annually as Independence Day.\n",
            "India's economy is one of the fastest-growing in the world. It has transitioned from an agrarian \n",
            "economy to a service-oriented and industrialized economy. The country is known for its \n",
            "software and information technology services, pharmaceuticals, textiles, agriculture, and \n",
            "manufacturing sectors. Major cities like Mumbai, Delhi, Bangalore, and Chennai are hubs of \n",
            "business and commerce, attracting investments and fostering innovation.\n",
            "Delhi is the capital of India\n"
          ]
        }
      ]
    },
    {
      "cell_type": "markdown",
      "source": [
        "### Download the vector DB"
      ],
      "metadata": {
        "id": "-HZcyoUJxdz6"
      }
    },
    {
      "cell_type": "code",
      "source": [
        "# Zip the entire folder\n",
        "!zip -r /content/docs.zip /content/docs"
      ],
      "metadata": {
        "colab": {
          "base_uri": "https://localhost:8080/"
        },
        "id": "cD7hrUivxdc6",
        "outputId": "cf60a5b7-010d-44d4-da1d-79d5d75fc88e"
      },
      "execution_count": 100,
      "outputs": [
        {
          "output_type": "stream",
          "name": "stdout",
          "text": [
            "  adding: content/docs/ (stored 0%)\n",
            "  adding: content/docs/chroma/ (stored 0%)\n",
            "  adding: content/docs/chroma/2578d79f-00c7-47e3-bcf8-77e2933257f7/ (stored 0%)\n",
            "  adding: content/docs/chroma/2578d79f-00c7-47e3-bcf8-77e2933257f7/header.bin (deflated 61%)\n",
            "  adding: content/docs/chroma/2578d79f-00c7-47e3-bcf8-77e2933257f7/link_lists.bin (stored 0%)\n",
            "  adding: content/docs/chroma/2578d79f-00c7-47e3-bcf8-77e2933257f7/length.bin (deflated 13%)\n",
            "  adding: content/docs/chroma/2578d79f-00c7-47e3-bcf8-77e2933257f7/data_level0.bin (deflated 100%)\n",
            "  adding: content/docs/chroma/chroma.sqlite3 (deflated 68%)\n"
          ]
        }
      ]
    },
    {
      "cell_type": "code",
      "source": [
        "from google.colab import files\n",
        "files.download(\"/content/docs.zip\")"
      ],
      "metadata": {
        "colab": {
          "base_uri": "https://localhost:8080/",
          "height": 17
        },
        "id": "YDCqN3E5xwQV",
        "outputId": "8add7b51-aa5b-4780-f391-b8d641d18689"
      },
      "execution_count": 101,
      "outputs": [
        {
          "output_type": "display_data",
          "data": {
            "text/plain": [
              "<IPython.core.display.Javascript object>"
            ],
            "application/javascript": [
              "\n",
              "    async function download(id, filename, size) {\n",
              "      if (!google.colab.kernel.accessAllowed) {\n",
              "        return;\n",
              "      }\n",
              "      const div = document.createElement('div');\n",
              "      const label = document.createElement('label');\n",
              "      label.textContent = `Downloading \"${filename}\": `;\n",
              "      div.appendChild(label);\n",
              "      const progress = document.createElement('progress');\n",
              "      progress.max = size;\n",
              "      div.appendChild(progress);\n",
              "      document.body.appendChild(div);\n",
              "\n",
              "      const buffers = [];\n",
              "      let downloaded = 0;\n",
              "\n",
              "      const channel = await google.colab.kernel.comms.open(id);\n",
              "      // Send a message to notify the kernel that we're ready.\n",
              "      channel.send({})\n",
              "\n",
              "      for await (const message of channel.messages) {\n",
              "        // Send a message to notify the kernel that we're ready.\n",
              "        channel.send({})\n",
              "        if (message.buffers) {\n",
              "          for (const buffer of message.buffers) {\n",
              "            buffers.push(buffer);\n",
              "            downloaded += buffer.byteLength;\n",
              "            progress.value = downloaded;\n",
              "          }\n",
              "        }\n",
              "      }\n",
              "      const blob = new Blob(buffers, {type: 'application/binary'});\n",
              "      const a = document.createElement('a');\n",
              "      a.href = window.URL.createObjectURL(blob);\n",
              "      a.download = filename;\n",
              "      div.appendChild(a);\n",
              "      a.click();\n",
              "      div.remove();\n",
              "    }\n",
              "  "
            ]
          },
          "metadata": {}
        },
        {
          "output_type": "display_data",
          "data": {
            "text/plain": [
              "<IPython.core.display.Javascript object>"
            ],
            "application/javascript": [
              "download(\"download_9a7cc5dd-dbbc-41c0-997b-c440b8a44850\", \"docs.zip\", 107348)"
            ]
          },
          "metadata": {}
        }
      ]
    }
  ]
}