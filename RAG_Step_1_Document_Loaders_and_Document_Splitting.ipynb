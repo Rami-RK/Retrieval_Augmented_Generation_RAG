{
  "nbformat": 4,
  "nbformat_minor": 0,
  "metadata": {
    "colab": {
      "provenance": [],
      "gpuType": "T4",
      "authorship_tag": "ABX9TyOi1k9YRkjpixf66TxqK+ud",
      "include_colab_link": true
    },
    "kernelspec": {
      "name": "python3",
      "display_name": "Python 3"
    },
    "language_info": {
      "name": "python"
    },
    "accelerator": "GPU"
  },
  "cells": [
    {
      "cell_type": "markdown",
      "metadata": {
        "id": "view-in-github",
        "colab_type": "text"
      },
      "source": [
        "<a href=\"https://colab.research.google.com/github/Rami-RK/Retrieval_Augmented_Generation_RAG/blob/main/RAG_Step_1_Document_Loaders_and_Document_Splitting.ipynb\" target=\"_parent\"><img src=\"https://colab.research.google.com/assets/colab-badge.svg\" alt=\"Open In Colab\"/></a>"
      ]
    },
    {
      "cell_type": "markdown",
      "source": [
        "## **RAG: Step 1 - Document Loaders and Document Splitting**\n",
        "\n",
        "In retrieval augmented generation (RAG), an LLM retrieves contextual documents from an external dataset as part of its execution.\n",
        "\n",
        "This is useful if we want to ask question about specific documents (e.g., our PDFs, a set of videos, etc)."
      ],
      "metadata": {
        "id": "sz8FxaY-23b3"
      }
    },
    {
      "cell_type": "markdown",
      "source": [
        "### **Objectives**\n",
        "\n",
        "At the end of the experiment you will be able to understand and implement:\n",
        "\n",
        "1. different data loaders available in LangChain\n",
        "2. document splitting\n",
        "\n",
        "Above mentioned are the few initial steps before performing RAG."
      ],
      "metadata": {
        "id": "UbfQzjdw1vLa"
      }
    },
    {
      "cell_type": "markdown",
      "source": [
        "### **Installing and importing packages**"
      ],
      "metadata": {
        "id": "AWE1xWfo13LZ"
      }
    },
    {
      "cell_type": "code",
      "source": [
        "!pip install openai\n",
        "!pip install langchain\n",
        "!pip install pypdf"
      ],
      "metadata": {
        "id": "A5DS6nQiu1yd"
      },
      "execution_count": null,
      "outputs": []
    },
    {
      "cell_type": "code",
      "execution_count": null,
      "metadata": {
        "id": "4woc_04_2HJw"
      },
      "outputs": [],
      "source": [
        "import os\n",
        "import openai"
      ]
    },
    {
      "cell_type": "markdown",
      "source": [
        "#### **Authentication for OpenAI API**"
      ],
      "metadata": {
        "id": "haCUm6b719uP"
      }
    },
    {
      "cell_type": "code",
      "source": [
        "f = open('/content/openapi_key.txt')\n",
        "api_key = f.read()\n",
        "type(api_key)"
      ],
      "metadata": {
        "colab": {
          "base_uri": "https://localhost:8080/"
        },
        "id": "h-H_WE37uQsn",
        "outputId": "887495b4-9745-45df-f16a-9eba59412a5c"
      },
      "execution_count": null,
      "outputs": [
        {
          "output_type": "execute_result",
          "data": {
            "text/plain": [
              "str"
            ]
          },
          "metadata": {},
          "execution_count": 5
        }
      ]
    },
    {
      "cell_type": "code",
      "source": [
        "os.environ['OPENAI_API_KEY'] = api_key\n",
        "openai.api_key= os.getenv('OPENAI_API_KEY')"
      ],
      "metadata": {
        "id": "XDm3vIkXuUAQ"
      },
      "execution_count": null,
      "outputs": []
    },
    {
      "cell_type": "markdown",
      "source": [
        "### **Loading the PDFs**"
      ],
      "metadata": {
        "id": "rSchRqXVvFXt"
      }
    },
    {
      "cell_type": "code",
      "source": [
        "from langchain.document_loaders import PyPDFLoader\n",
        "loader = PyPDFLoader(\"/content/Doc 1.pdf\")\n",
        "pages = loader.load()"
      ],
      "metadata": {
        "id": "VBQ2IPEru768"
      },
      "execution_count": null,
      "outputs": []
    },
    {
      "cell_type": "markdown",
      "source": [
        "Each page is a `Document`.\n",
        "\n",
        "A `Document` contains text (`page_content`) and `metadata`."
      ],
      "metadata": {
        "id": "d1mCM8jFvsFV"
      }
    },
    {
      "cell_type": "code",
      "source": [
        "len(pages)"
      ],
      "metadata": {
        "colab": {
          "base_uri": "https://localhost:8080/"
        },
        "id": "1NK0ARWEvjmF",
        "outputId": "a1b75adc-b1f1-48d7-aabe-053013daaa11"
      },
      "execution_count": null,
      "outputs": [
        {
          "output_type": "execute_result",
          "data": {
            "text/plain": [
              "1"
            ]
          },
          "metadata": {},
          "execution_count": 8
        }
      ]
    },
    {
      "cell_type": "code",
      "source": [
        "page = pages[0]\n",
        "page"
      ],
      "metadata": {
        "colab": {
          "base_uri": "https://localhost:8080/"
        },
        "id": "ElTwTODmvl83",
        "outputId": "a0434565-00f7-47e8-e7f0-3386cf4b7578"
      },
      "execution_count": null,
      "outputs": [
        {
          "output_type": "execute_result",
          "data": {
            "text/plain": [
              "Document(page_content=\"India, officially known as the Republic of India, is a diverse and vibrant country located in South\\nAsia. With a rich history spanning thousands of years, India is known for its cultural heritage, \\nreligious diversity, and vast landscapes. From the majestic Himalayas in the north to the serene\\nbackwaters of Kerala in the south, India encompasses a wide range of geographical features, \\nincluding deserts, plains, mountains, and coastlines, making it a land of incredible natural \\nbeauty.\\nIndia is the seventh-largest country by land area and the second-most populous country in the \\nworld, with a population exceeding 1.3 billion people. It is a federal parliamentary democratic \\nrepublic, with a president as the head of state and a prime minister as the head of government. \\nThe country follows a multi-tiered administrative structure, with 28 states and 9 union territories,\\neach having its own elected government.\\nIndia has a rich cultural heritage that has evolved over thousands of years. It is home to various\\nreligions, including Hinduism, Islam, Christianity, Sikhism, Buddhism, and Jainism, among \\nothers. These religions coexist harmoniously, contributing to India's multicultural fabric. \\nFestivals like Diwali, Eid, Christmas, and Holi are celebrated with great enthusiasm and bring \\npeople from different communities together.\\nThe history of India is characterized by ancient civilizations, invasions, and the establishment of\\npowerful empires. The Indus Valley Civilization, one of the world's oldest urban civilizations, \\nflourished in the northwestern part of the Indian subcontinent around 2500 BCE. Over the \\ncenturies, India witnessed the rise and fall of several dynasties, including the Maurya, Gupta, \\nand Mughal empires. The Mughal period, in particular, left a lasting impact on Indian culture, \\nart, and architecture.\\nIndia's struggle for independence from British colonial rule is a significant chapter in its history. \\nLed by Mahatma Gandhi and other freedom fighters, the non-violent resistance movement \\ngained momentum and eventually led to India's independence on August 15, 1947. This day is \\ncelebrated annually as Independence Day.\\nIndia's economy is one of the fastest-growing in the world. It has transitioned from an agrarian \\neconomy to a service-oriented and industrialized economy. The country is known for its \\nsoftware and information technology services, pharmaceuticals, textiles, agriculture, and \\nmanufacturing sectors. Major cities like Mumbai, Delhi, Bangalore, and Chennai are hubs of \\nbusiness and commerce, attracting investments and fostering innovation.\\nDelhi is the capital of India\", metadata={'source': '/content/Doc 1.pdf', 'page': 0})"
            ]
          },
          "metadata": {},
          "execution_count": 11
        }
      ]
    },
    {
      "cell_type": "code",
      "source": [
        "print(page.page_content[0:500])"
      ],
      "metadata": {
        "colab": {
          "base_uri": "https://localhost:8080/"
        },
        "id": "60yAYcIqvmtG",
        "outputId": "a810fe28-a15f-430d-d476-2ddec6906013"
      },
      "execution_count": null,
      "outputs": [
        {
          "output_type": "stream",
          "name": "stdout",
          "text": [
            "India, officially known as the Republic of India, is a diverse and vibrant country located in South\n",
            "Asia. With a rich history spanning thousands of years, India is known for its cultural heritage, \n",
            "religious diversity, and vast landscapes. From the majestic Himalayas in the north to the serene\n",
            "backwaters of Kerala in the south, India encompasses a wide range of geographical features, \n",
            "including deserts, plains, mountains, and coastlines, making it a land of incredible natural \n",
            "beauty.\n",
            "India is t\n"
          ]
        }
      ]
    },
    {
      "cell_type": "code",
      "source": [
        "page.metadata"
      ],
      "metadata": {
        "colab": {
          "base_uri": "https://localhost:8080/"
        },
        "id": "cl-rRGQSvpBG",
        "outputId": "cba9e186-a077-4286-ba55-0661b1025911"
      },
      "execution_count": null,
      "outputs": [
        {
          "output_type": "execute_result",
          "data": {
            "text/plain": [
              "{'source': '/content/Doc 1.pdf', 'page': 0}"
            ]
          },
          "metadata": {},
          "execution_count": 12
        }
      ]
    },
    {
      "cell_type": "markdown",
      "source": [
        "####  **Document loader for  Youtube & OpenAI Whisper**"
      ],
      "metadata": {
        "id": "qYzBLNS9wD_7"
      }
    },
    {
      "cell_type": "code",
      "source": [
        "from langchain.document_loaders.generic import GenericLoader\n",
        "from langchain.document_loaders.parsers import OpenAIWhisperParser\n",
        "from langchain.document_loaders.blob_loaders.youtube_audio import YoutubeAudioLoader"
      ],
      "metadata": {
        "id": "V6hWCD69wGny"
      },
      "execution_count": null,
      "outputs": []
    },
    {
      "cell_type": "code",
      "source": [
        "! pip install yt_dlp\n",
        "! pip install pydub"
      ],
      "metadata": {
        "id": "h5qiETUqwQzN"
      },
      "execution_count": null,
      "outputs": []
    },
    {
      "cell_type": "code",
      "source": [
        "url=\"https://www.youtube.com/shorts/5xp0taGM3Kg\"\n",
        "save_dir=\"docs/youtube/\"\n",
        "loader = GenericLoader(\n",
        "    YoutubeAudioLoader([url],save_dir),\n",
        "    OpenAIWhisperParser()\n",
        ")\n",
        "docs = loader.load()"
      ],
      "metadata": {
        "colab": {
          "base_uri": "https://localhost:8080/"
        },
        "id": "Vx6AcNtewOp9",
        "outputId": "698c6dd5-9821-4d40-b724-523756fb739b"
      },
      "execution_count": null,
      "outputs": [
        {
          "output_type": "stream",
          "name": "stdout",
          "text": [
            "[youtube] Extracting URL: https://www.youtube.com/shorts/5xp0taGM3Kg\n",
            "[youtube] 5xp0taGM3Kg: Downloading webpage\n",
            "[youtube] 5xp0taGM3Kg: Downloading ios player API JSON\n",
            "[youtube] 5xp0taGM3Kg: Downloading android player API JSON\n",
            "[youtube] 5xp0taGM3Kg: Downloading m3u8 information\n",
            "[info] 5xp0taGM3Kg: Downloading 1 format(s): 140\n",
            "[download] Destination: docs/youtube//Andrew Ng's Secret to Mastering Machine Learning - Part 1 #shorts.m4a\n",
            "[download] 100% of  757.83KiB in 00:00:00 at 2.71MiB/s   \n",
            "[FixupM4a] Correcting container of \"docs/youtube//Andrew Ng's Secret to Mastering Machine Learning - Part 1 #shorts.m4a\"\n",
            "[ExtractAudio] Not converting audio docs/youtube//Andrew Ng's Secret to Mastering Machine Learning - Part 1 #shorts.m4a; file is already in target format m4a\n",
            "Transcribing part 1!\n"
          ]
        }
      ]
    },
    {
      "cell_type": "code",
      "source": [
        "docs[0].page_content[0:500]"
      ],
      "metadata": {
        "colab": {
          "base_uri": "https://localhost:8080/",
          "height": 70
        },
        "id": "_WCTrqF1xxok",
        "outputId": "a11096c0-4ad1-48b4-acbd-57d81521d5b4"
      },
      "execution_count": null,
      "outputs": [
        {
          "output_type": "execute_result",
          "data": {
            "text/plain": [
              "\"What would you recommend? How do they go about day-to-day, sort of specific advice about learning in the world of deep learning, machine learning? Getting the habit of learning is key, and that means regularity. And for myself, I've picked up a habit of spending some time every Saturday and every Sunday reading or studying. And so I don't wake up on a Saturday and have to make a decision. Do I feel like reading or studying today or not? It's just what I do. And the fact it's a habit makes it eas\""
            ],
            "application/vnd.google.colaboratory.intrinsic+json": {
              "type": "string"
            }
          },
          "metadata": {},
          "execution_count": 16
        }
      ]
    },
    {
      "cell_type": "markdown",
      "source": [
        "### **Document Splitting**"
      ],
      "metadata": {
        "id": "uE5_aDCH1NKt"
      }
    },
    {
      "cell_type": "code",
      "source": [
        "from langchain.text_splitter import RecursiveCharacterTextSplitter, CharacterTextSplitter"
      ],
      "metadata": {
        "id": "pILNpiea1Vaa"
      },
      "execution_count": null,
      "outputs": []
    },
    {
      "cell_type": "code",
      "source": [
        "chunk_size =26\n",
        "chunk_overlap = 4"
      ],
      "metadata": {
        "id": "8psyoEOr1W7R"
      },
      "execution_count": null,
      "outputs": []
    },
    {
      "cell_type": "code",
      "source": [
        "r_splitter = RecursiveCharacterTextSplitter(chunk_size=chunk_size,chunk_overlap=chunk_overlap)\n",
        "\n",
        "c_splitter = CharacterTextSplitter(chunk_size=chunk_size,chunk_overlap=chunk_overlap)"
      ],
      "metadata": {
        "id": "PyvGlRFi1Zyn"
      },
      "execution_count": null,
      "outputs": []
    },
    {
      "cell_type": "markdown",
      "source": [
        "**Recursive splitter**"
      ],
      "metadata": {
        "id": "v1jZJGHkV4hP"
      }
    },
    {
      "cell_type": "markdown",
      "source": [
        "Why doesn't this split the string below?"
      ],
      "metadata": {
        "id": "uNpPzc2u1h99"
      }
    },
    {
      "cell_type": "code",
      "source": [
        "text1 = 'abcdefghijklmnopqrstuvwxyz'"
      ],
      "metadata": {
        "id": "eMD-2pPM1knb"
      },
      "execution_count": null,
      "outputs": []
    },
    {
      "cell_type": "code",
      "source": [
        "r_splitter.split_text(text1)"
      ],
      "metadata": {
        "colab": {
          "base_uri": "https://localhost:8080/"
        },
        "id": "RDwrY4fN1kqD",
        "outputId": "4c5eeb53-77e1-4380-f58f-d5f8c44f8e84"
      },
      "execution_count": null,
      "outputs": [
        {
          "output_type": "execute_result",
          "data": {
            "text/plain": [
              "['abcdefghijklmnopqrstuvwxyz']"
            ]
          },
          "metadata": {},
          "execution_count": 21
        }
      ]
    },
    {
      "cell_type": "code",
      "source": [
        "text2 = 'abcdefghijklmnopqrstuvwxyzabcdefg'"
      ],
      "metadata": {
        "id": "Eb72CKTb1ktt"
      },
      "execution_count": null,
      "outputs": []
    },
    {
      "cell_type": "code",
      "source": [
        "r_splitter.split_text(text2)"
      ],
      "metadata": {
        "colab": {
          "base_uri": "https://localhost:8080/"
        },
        "id": "ScMmPx9I1oTV",
        "outputId": "ce3b5380-4516-46fb-bb2c-ce00b248c410"
      },
      "execution_count": null,
      "outputs": [
        {
          "output_type": "execute_result",
          "data": {
            "text/plain": [
              "['abcdefghijklmnopqrstuvwxyz', 'wxyzabcdefg']"
            ]
          },
          "metadata": {},
          "execution_count": 29
        }
      ]
    },
    {
      "cell_type": "code",
      "source": [
        "text3 = \"a b c d e f g h i j k l m n o p q r s t u v w x y z\""
      ],
      "metadata": {
        "id": "f0MVTWti1oV7"
      },
      "execution_count": null,
      "outputs": []
    },
    {
      "cell_type": "code",
      "source": [
        "r_splitter.split_text(text3)"
      ],
      "metadata": {
        "colab": {
          "base_uri": "https://localhost:8080/"
        },
        "id": "19gVUbf81oYW",
        "outputId": "8d1ac422-1b5f-41ee-9311-7f543ae91158"
      },
      "execution_count": null,
      "outputs": [
        {
          "output_type": "execute_result",
          "data": {
            "text/plain": [
              "['a b c d e f g h i j k l m', 'l m n o p q r s t u v w x', 'w x y z']"
            ]
          },
          "metadata": {},
          "execution_count": 23
        }
      ]
    },
    {
      "cell_type": "markdown",
      "source": [
        "**Character splitter**"
      ],
      "metadata": {
        "id": "8iEwe7TjV-Do"
      }
    },
    {
      "cell_type": "code",
      "source": [
        "c_splitter.split_text(text3) # What is happening here? What is going on here?\n",
        "#character text splitter, splits on single character by default it is new line \\n"
      ],
      "metadata": {
        "colab": {
          "base_uri": "https://localhost:8080/"
        },
        "id": "COcVOwfB1odQ",
        "outputId": "548c44e2-bf1c-4993-8a94-986a8fd82a6a"
      },
      "execution_count": null,
      "outputs": [
        {
          "output_type": "execute_result",
          "data": {
            "text/plain": [
              "['a b c d e f g h i j k l m n o p q r s t u v w x y z']"
            ]
          },
          "metadata": {},
          "execution_count": 24
        }
      ]
    },
    {
      "cell_type": "code",
      "source": [
        "c_splitter = CharacterTextSplitter(chunk_size=chunk_size,chunk_overlap=chunk_overlap,separator = ' ')\n",
        "c_splitter.split_text(text3)"
      ],
      "metadata": {
        "colab": {
          "base_uri": "https://localhost:8080/"
        },
        "id": "ngquanjR1ofs",
        "outputId": "a914ee67-8a91-4bbd-f188-318adef539f1"
      },
      "execution_count": null,
      "outputs": [
        {
          "output_type": "execute_result",
          "data": {
            "text/plain": [
              "['a b c d e f g h i j k l m', 'l m n o p q r s t u v w x', 'w x y z']"
            ]
          },
          "metadata": {},
          "execution_count": 25
        }
      ]
    },
    {
      "cell_type": "markdown",
      "source": [
        "### **Recursive splitting details**\n",
        "\n",
        "`RecursiveCharacterTextSplitter` is recommended for generic text."
      ],
      "metadata": {
        "id": "vMMQFXEa3Dc_"
      }
    },
    {
      "cell_type": "code",
      "source": [
        "some_text = \"\"\"When writing documents, writers will use document structure to group content. \\\n",
        "This can convey to the reader, which idea's are related. For example, closely related ideas \\\n",
        "are in sentances. Similar ideas are in paragraphs. Paragraphs form a document. \\n\\n  \\\n",
        "Paragraphs are often delimited with a carriage return or two carriage returns. \\\n",
        "Carriage returns are the \"backslash n\" you see embedded in this string. \\\n",
        "Sentences have a period at the end, but also, have a space.\\\n",
        "and words are separated by space.\"\"\""
      ],
      "metadata": {
        "id": "9PhaNbhi3Eyd"
      },
      "execution_count": null,
      "outputs": []
    },
    {
      "cell_type": "code",
      "source": [
        "len(some_text)"
      ],
      "metadata": {
        "colab": {
          "base_uri": "https://localhost:8080/"
        },
        "id": "aHyFHVsb3FAx",
        "outputId": "abb17ae5-7231-42b5-84e4-598e516fc1f1"
      },
      "execution_count": null,
      "outputs": [
        {
          "output_type": "execute_result",
          "data": {
            "text/plain": [
              "496"
            ]
          },
          "metadata": {},
          "execution_count": 27
        }
      ]
    },
    {
      "cell_type": "code",
      "source": [
        "c_splitter = CharacterTextSplitter(\n",
        "    chunk_size=450,\n",
        "    chunk_overlap=0,\n",
        "    separator = ' '\n",
        ")\n",
        "r_splitter = RecursiveCharacterTextSplitter(\n",
        "    chunk_size=450,\n",
        "    chunk_overlap=0,\n",
        "    separators=[\"\\n\\n\", \"\\n\", \" \", \"\"]\n",
        ")"
      ],
      "metadata": {
        "id": "DlKOgJvG3FDk"
      },
      "execution_count": null,
      "outputs": []
    },
    {
      "cell_type": "code",
      "source": [
        "c_splitter.split_text(some_text)"
      ],
      "metadata": {
        "colab": {
          "base_uri": "https://localhost:8080/"
        },
        "id": "qPCQjfB63FGD",
        "outputId": "8768502c-296c-4188-a5c4-12613d454bfc"
      },
      "execution_count": null,
      "outputs": [
        {
          "output_type": "execute_result",
          "data": {
            "text/plain": [
              "['When writing documents, writers will use document structure to group content. This can convey to the reader, which idea\\'s are related. For example, closely related ideas are in sentances. Similar ideas are in paragraphs. Paragraphs form a document. \\n\\n Paragraphs are often delimited with a carriage return or two carriage returns. Carriage returns are the \"backslash n\" you see embedded in this string. Sentences have a period at the end, but also,',\n",
              " 'have a space.and words are separated by space.']"
            ]
          },
          "metadata": {},
          "execution_count": 29
        }
      ]
    },
    {
      "cell_type": "code",
      "source": [
        "r_splitter.split_text(some_text)"
      ],
      "metadata": {
        "colab": {
          "base_uri": "https://localhost:8080/"
        },
        "id": "kx4vALgI3FIX",
        "outputId": "b572589f-c300-4587-cf59-45d89d06690b"
      },
      "execution_count": null,
      "outputs": [
        {
          "output_type": "execute_result",
          "data": {
            "text/plain": [
              "[\"When writing documents, writers will use document structure to group content. This can convey to the reader, which idea's are related. For example, closely related ideas are in sentances. Similar ideas are in paragraphs. Paragraphs form a document.\",\n",
              " 'Paragraphs are often delimited with a carriage return or two carriage returns. Carriage returns are the \"backslash n\" you see embedded in this string. Sentences have a period at the end, but also, have a space.and words are separated by space.']"
            ]
          },
          "metadata": {},
          "execution_count": 30
        }
      ]
    },
    {
      "cell_type": "markdown",
      "source": [
        "Let's reduce the chunk size a bit and add a period to our separators:"
      ],
      "metadata": {
        "id": "x_Uh8kpc3SzN"
      }
    },
    {
      "cell_type": "code",
      "source": [
        "r_splitter = RecursiveCharacterTextSplitter(\n",
        "    chunk_size=150,\n",
        "    chunk_overlap=0,\n",
        "    separators=[\"\\n\\n\", \"\\n\", \"\\. \", \" \", \"\"]\n",
        ")\n",
        "r_splitter.split_text(some_text)"
      ],
      "metadata": {
        "colab": {
          "base_uri": "https://localhost:8080/"
        },
        "id": "fPjyzxGJ3UJD",
        "outputId": "86595c4c-2e88-4849-8b63-3699463b48c8"
      },
      "execution_count": null,
      "outputs": [
        {
          "output_type": "execute_result",
          "data": {
            "text/plain": [
              "[\"When writing documents, writers will use document structure to group content. This can convey to the reader, which idea's are related. For example,\",\n",
              " 'closely related ideas are in sentances. Similar ideas are in paragraphs. Paragraphs form a document.',\n",
              " 'Paragraphs are often delimited with a carriage return or two carriage returns. Carriage returns are the \"backslash n\" you see embedded in this',\n",
              " 'string. Sentences have a period at the end, but also, have a space.and words are separated by space.']"
            ]
          },
          "metadata": {},
          "execution_count": 31
        }
      ]
    },
    {
      "cell_type": "code",
      "source": [
        "r_splitter = RecursiveCharacterTextSplitter(\n",
        "    chunk_size=150,\n",
        "    chunk_overlap=0,\n",
        "    separators=[\"\\n\\n\", \"\\n\", \"(?<=\\. )\", \" \", \"\"]\n",
        ")\n",
        "r_splitter.split_text(some_text)"
      ],
      "metadata": {
        "colab": {
          "base_uri": "https://localhost:8080/"
        },
        "id": "wXn4EeY43ULx",
        "outputId": "124926e0-d5e2-40d5-ec0c-769ff175d6bf"
      },
      "execution_count": null,
      "outputs": [
        {
          "output_type": "execute_result",
          "data": {
            "text/plain": [
              "[\"When writing documents, writers will use document structure to group content. This can convey to the reader, which idea's are related. For example,\",\n",
              " 'closely related ideas are in sentances. Similar ideas are in paragraphs. Paragraphs form a document.',\n",
              " 'Paragraphs are often delimited with a carriage return or two carriage returns. Carriage returns are the \"backslash n\" you see embedded in this',\n",
              " 'string. Sentences have a period at the end, but also, have a space.and words are separated by space.']"
            ]
          },
          "metadata": {},
          "execution_count": 32
        }
      ]
    },
    {
      "cell_type": "code",
      "source": [
        "from langchain.document_loaders import PyPDFLoader\n",
        "loader = PyPDFLoader(\"/content/Doc 1.pdf\")\n",
        "pages = loader.load()"
      ],
      "metadata": {
        "id": "JOXy1LL_3UOg"
      },
      "execution_count": null,
      "outputs": []
    },
    {
      "cell_type": "code",
      "source": [
        "from langchain.text_splitter import CharacterTextSplitter\n",
        "text_splitter = CharacterTextSplitter(\n",
        "    separator=\"\\n\",\n",
        "    chunk_size=1000,\n",
        "    chunk_overlap=150,\n",
        "    length_function=len\n",
        ")"
      ],
      "metadata": {
        "id": "n3jw-VID3USz"
      },
      "execution_count": null,
      "outputs": []
    },
    {
      "cell_type": "code",
      "source": [
        "docs = text_splitter.split_documents(pages)"
      ],
      "metadata": {
        "id": "B9frivxL3UVZ"
      },
      "execution_count": null,
      "outputs": []
    },
    {
      "cell_type": "code",
      "source": [
        "len(docs)"
      ],
      "metadata": {
        "colab": {
          "base_uri": "https://localhost:8080/"
        },
        "id": "mRSdC3XC3UXr",
        "outputId": "948a20e6-bfc5-41a6-ea83-1e8936e9e564"
      },
      "execution_count": null,
      "outputs": [
        {
          "output_type": "execute_result",
          "data": {
            "text/plain": [
              "4"
            ]
          },
          "metadata": {},
          "execution_count": 36
        }
      ]
    },
    {
      "cell_type": "code",
      "source": [
        "docs[0].page_content"
      ],
      "metadata": {
        "colab": {
          "base_uri": "https://localhost:8080/",
          "height": 122
        },
        "id": "7x6s38wy5-xP",
        "outputId": "93ec0e50-a86c-42e5-f70a-a1bd0f5e5941"
      },
      "execution_count": null,
      "outputs": [
        {
          "output_type": "execute_result",
          "data": {
            "text/plain": [
              "'India, officially known as the Republic of India, is a diverse and vibrant country located in South\\nAsia. With a rich history spanning thousands of years, India is known for its cultural heritage, \\nreligious diversity, and vast landscapes. From the majestic Himalayas in the north to the serene\\nbackwaters of Kerala in the south, India encompasses a wide range of geographical features, \\nincluding deserts, plains, mountains, and coastlines, making it a land of incredible natural \\nbeauty.\\nIndia is the seventh-largest country by land area and the second-most populous country in the \\nworld, with a population exceeding 1.3 billion people. It is a federal parliamentary democratic \\nrepublic, with a president as the head of state and a prime minister as the head of government. \\nThe country follows a multi-tiered administrative structure, with 28 states and 9 union territories,\\neach having its own elected government.'"
            ],
            "application/vnd.google.colaboratory.intrinsic+json": {
              "type": "string"
            }
          },
          "metadata": {},
          "execution_count": 38
        }
      ]
    },
    {
      "cell_type": "code",
      "source": [
        "docs[1].page_content"
      ],
      "metadata": {
        "colab": {
          "base_uri": "https://localhost:8080/",
          "height": 122
        },
        "id": "iuxsRyWm7Wk4",
        "outputId": "714e50a2-8ea6-4825-b097-4286e38ced9d"
      },
      "execution_count": null,
      "outputs": [
        {
          "output_type": "execute_result",
          "data": {
            "text/plain": [
              "\"The country follows a multi-tiered administrative structure, with 28 states and 9 union territories,\\neach having its own elected government.\\nIndia has a rich cultural heritage that has evolved over thousands of years. It is home to various\\nreligions, including Hinduism, Islam, Christianity, Sikhism, Buddhism, and Jainism, among \\nothers. These religions coexist harmoniously, contributing to India's multicultural fabric. \\nFestivals like Diwali, Eid, Christmas, and Holi are celebrated with great enthusiasm and bring \\npeople from different communities together.\\nThe history of India is characterized by ancient civilizations, invasions, and the establishment of\\npowerful empires. The Indus Valley Civilization, one of the world's oldest urban civilizations, \\nflourished in the northwestern part of the Indian subcontinent around 2500 BCE. Over the \\ncenturies, India witnessed the rise and fall of several dynasties, including the Maurya, Gupta,\""
            ],
            "application/vnd.google.colaboratory.intrinsic+json": {
              "type": "string"
            }
          },
          "metadata": {},
          "execution_count": 37
        }
      ]
    },
    {
      "cell_type": "code",
      "source": [
        "docs[2].page_content"
      ],
      "metadata": {
        "id": "91Xbo7cg6CFg",
        "outputId": "12f205d7-06b3-4a43-b53e-a7be1f47752d",
        "colab": {
          "base_uri": "https://localhost:8080/",
          "height": 122
        }
      },
      "execution_count": null,
      "outputs": [
        {
          "output_type": "execute_result",
          "data": {
            "text/plain": [
              "\"centuries, India witnessed the rise and fall of several dynasties, including the Maurya, Gupta, \\nand Mughal empires. The Mughal period, in particular, left a lasting impact on Indian culture, \\nart, and architecture.\\nIndia's struggle for independence from British colonial rule is a significant chapter in its history. \\nLed by Mahatma Gandhi and other freedom fighters, the non-violent resistance movement \\ngained momentum and eventually led to India's independence on August 15, 1947. This day is \\ncelebrated annually as Independence Day.\\nIndia's economy is one of the fastest-growing in the world. It has transitioned from an agrarian \\neconomy to a service-oriented and industrialized economy. The country is known for its \\nsoftware and information technology services, pharmaceuticals, textiles, agriculture, and \\nmanufacturing sectors. Major cities like Mumbai, Delhi, Bangalore, and Chennai are hubs of \\nbusiness and commerce, attracting investments and fostering innovation.\""
            ],
            "application/vnd.google.colaboratory.intrinsic+json": {
              "type": "string"
            }
          },
          "metadata": {},
          "execution_count": 39
        }
      ]
    },
    {
      "cell_type": "code",
      "source": [
        "len(pages)"
      ],
      "metadata": {
        "colab": {
          "base_uri": "https://localhost:8080/"
        },
        "id": "LGzAwTOf3iuJ",
        "outputId": "7c9835e0-4847-4659-fc55-e00e765eda55"
      },
      "execution_count": null,
      "outputs": [
        {
          "output_type": "execute_result",
          "data": {
            "text/plain": [
              "1"
            ]
          },
          "metadata": {},
          "execution_count": 40
        }
      ]
    },
    {
      "cell_type": "markdown",
      "source": [
        "### **Token splitting**\n",
        "\n",
        "We can also split on token count explicity, if we want.\n",
        "\n",
        "This can be useful because LLMs often have context windows designated in tokens.\n",
        "\n",
        "Tokens are often ~4 characters."
      ],
      "metadata": {
        "id": "AH9Cmwug3zZ8"
      }
    },
    {
      "cell_type": "code",
      "source": [
        "pip install tiktoken"
      ],
      "metadata": {
        "colab": {
          "base_uri": "https://localhost:8080/"
        },
        "id": "1iekcTkA4cxs",
        "outputId": "00205ee3-2efa-4a82-df48-2f62b807f1eb"
      },
      "execution_count": null,
      "outputs": [
        {
          "output_type": "stream",
          "name": "stdout",
          "text": [
            "Collecting tiktoken\n",
            "  Downloading tiktoken-0.5.1-cp310-cp310-manylinux_2_17_x86_64.manylinux2014_x86_64.whl (2.0 MB)\n",
            "\u001b[2K     \u001b[90m━━━━━━━━━━━━━━━━━━━━━━━━━━━━━━━━━━━━━━━━\u001b[0m \u001b[32m2.0/2.0 MB\u001b[0m \u001b[31m10.1 MB/s\u001b[0m eta \u001b[36m0:00:00\u001b[0m\n",
            "\u001b[?25hRequirement already satisfied: regex>=2022.1.18 in /usr/local/lib/python3.10/dist-packages (from tiktoken) (2023.6.3)\n",
            "Requirement already satisfied: requests>=2.26.0 in /usr/local/lib/python3.10/dist-packages (from tiktoken) (2.31.0)\n",
            "Requirement already satisfied: charset-normalizer<4,>=2 in /usr/local/lib/python3.10/dist-packages (from requests>=2.26.0->tiktoken) (3.2.0)\n",
            "Requirement already satisfied: idna<4,>=2.5 in /usr/local/lib/python3.10/dist-packages (from requests>=2.26.0->tiktoken) (3.4)\n",
            "Requirement already satisfied: urllib3<3,>=1.21.1 in /usr/local/lib/python3.10/dist-packages (from requests>=2.26.0->tiktoken) (2.0.4)\n",
            "Requirement already satisfied: certifi>=2017.4.17 in /usr/local/lib/python3.10/dist-packages (from requests>=2.26.0->tiktoken) (2023.7.22)\n",
            "Installing collected packages: tiktoken\n",
            "Successfully installed tiktoken-0.5.1\n"
          ]
        }
      ]
    },
    {
      "cell_type": "code",
      "source": [
        "import tiktoken"
      ],
      "metadata": {
        "id": "roOBLwWU4aIj"
      },
      "execution_count": null,
      "outputs": []
    },
    {
      "cell_type": "code",
      "source": [
        "from langchain.text_splitter import TokenTextSplitter"
      ],
      "metadata": {
        "id": "9jmeAzvH3iwx"
      },
      "execution_count": null,
      "outputs": []
    },
    {
      "cell_type": "code",
      "source": [
        "text_splitter = TokenTextSplitter(chunk_size=1, chunk_overlap=0)"
      ],
      "metadata": {
        "id": "zCmvBrdQ3izF"
      },
      "execution_count": null,
      "outputs": []
    },
    {
      "cell_type": "code",
      "source": [
        "text1 = \"foo bar bazzyfoo\""
      ],
      "metadata": {
        "id": "6PvlSnU64FcR"
      },
      "execution_count": null,
      "outputs": []
    },
    {
      "cell_type": "code",
      "source": [
        "text_splitter.split_text(text1)"
      ],
      "metadata": {
        "colab": {
          "base_uri": "https://localhost:8080/"
        },
        "id": "f39tTcz_4H8T",
        "outputId": "214ed630-cb16-4bca-aa78-dcd425297c74"
      },
      "execution_count": null,
      "outputs": [
        {
          "output_type": "execute_result",
          "data": {
            "text/plain": [
              "['foo', ' bar', ' b', 'az', 'zy', 'foo']"
            ]
          },
          "metadata": {},
          "execution_count": 66
        }
      ]
    },
    {
      "cell_type": "code",
      "source": [
        "text_splitter = TokenTextSplitter(chunk_size=10, chunk_overlap=0)"
      ],
      "metadata": {
        "id": "Ek_KH6GQ4KLu"
      },
      "execution_count": null,
      "outputs": []
    },
    {
      "cell_type": "code",
      "source": [
        "docs = text_splitter.split_documents(pages)"
      ],
      "metadata": {
        "id": "yOerW8Xl4Mbe"
      },
      "execution_count": null,
      "outputs": []
    },
    {
      "cell_type": "code",
      "source": [
        "docs[3]"
      ],
      "metadata": {
        "colab": {
          "base_uri": "https://localhost:8080/"
        },
        "id": "fcZefSJo4OSe",
        "outputId": "87baf483-a2da-4f5f-c9ec-004bf060cc5a"
      },
      "execution_count": null,
      "outputs": [
        {
          "output_type": "execute_result",
          "data": {
            "text/plain": [
              "Document(page_content='\\nlearning class. So what I wanna do today', metadata={'source': '/content/MachineLearning-Lecture01.pdf', 'page': 0})"
            ]
          },
          "metadata": {},
          "execution_count": 73
        }
      ]
    },
    {
      "cell_type": "code",
      "source": [
        "pages[0].metadata"
      ],
      "metadata": {
        "colab": {
          "base_uri": "https://localhost:8080/"
        },
        "id": "YczwFqdD4QJ6",
        "outputId": "25306321-2a95-445e-84fd-dbe64ec2e95c"
      },
      "execution_count": null,
      "outputs": [
        {
          "output_type": "execute_result",
          "data": {
            "text/plain": [
              "{'source': '/content/MachineLearning-Lecture01.pdf', 'page': 0}"
            ]
          },
          "metadata": {},
          "execution_count": 70
        }
      ]
    },
    {
      "cell_type": "markdown",
      "source": [
        "### Context aware splitting\n",
        "\n",
        "Chunking aims to keep text with common context together.\n",
        "\n",
        "A text splitting often uses sentences or other delimiters to keep related text together but many documents (such as Markdown) have structure (headers) that can be explicitly used in splitting.\n",
        "\n",
        "We can use `MarkdownHeaderTextSplitter` to preserve header metadata in our chunks, as show below."
      ],
      "metadata": {
        "id": "m3J6SOW749LX"
      }
    },
    {
      "cell_type": "code",
      "source": [],
      "metadata": {
        "id": "g3uUW7Mf4-Fz"
      },
      "execution_count": null,
      "outputs": []
    },
    {
      "cell_type": "code",
      "source": [],
      "metadata": {
        "id": "LHSqxpUS4-Yv"
      },
      "execution_count": null,
      "outputs": []
    },
    {
      "cell_type": "code",
      "source": [],
      "metadata": {
        "id": "kEbC9e6V4-bt"
      },
      "execution_count": null,
      "outputs": []
    },
    {
      "cell_type": "code",
      "source": [],
      "metadata": {
        "id": "5cE6jN5m4-eg"
      },
      "execution_count": null,
      "outputs": []
    },
    {
      "cell_type": "code",
      "source": [],
      "metadata": {
        "id": "W6Sp-_aR4-hM"
      },
      "execution_count": null,
      "outputs": []
    },
    {
      "cell_type": "code",
      "source": [],
      "metadata": {
        "id": "MoEwSEPw4-jb"
      },
      "execution_count": null,
      "outputs": []
    }
  ]
}