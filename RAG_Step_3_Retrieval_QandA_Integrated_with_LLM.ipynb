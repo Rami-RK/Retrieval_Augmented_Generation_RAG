{
  "nbformat": 4,
  "nbformat_minor": 0,
  "metadata": {
    "colab": {
      "provenance": [],
      "authorship_tag": "ABX9TyOVm/cYRLAIu8N+ceK47Ibt",
      "include_colab_link": true
    },
    "kernelspec": {
      "name": "python3",
      "display_name": "Python 3"
    },
    "language_info": {
      "name": "python"
    }
  },
  "cells": [
    {
      "cell_type": "markdown",
      "metadata": {
        "id": "view-in-github",
        "colab_type": "text"
      },
      "source": [
        "<a href=\"https://colab.research.google.com/github/Rami-RK/Retrieval_Augmented_Generation_RAG/blob/main/RAG_Step_3_Retrieval_QandA_Integrated_with_LLM.ipynb\" target=\"_parent\"><img src=\"https://colab.research.google.com/assets/colab-badge.svg\" alt=\"Open In Colab\"/></a>"
      ]
    },
    {
      "cell_type": "markdown",
      "source": [
        "## **RAG: Step 3 - Retrieval Q&A Integrated with LLM**"
      ],
      "metadata": {
        "id": "w6GW0PA5jm4T"
      }
    },
    {
      "cell_type": "markdown",
      "source": [
        "### **Objectives**\n",
        "At the end of the experiment you will be able to :\n",
        "\n",
        "\n",
        "1. integrate retrieval Q&A from Vector DB with LLM\n",
        "2. adress issue with simple similarity search by impelenting MMR technique\n",
        "3. add memory to RAG\n",
        "4. implement full fledge RAG and chat with the document"
      ],
      "metadata": {
        "id": "0uwv2FdD5F_D"
      }
    },
    {
      "cell_type": "markdown",
      "source": [
        "### **Installing and importing packages**"
      ],
      "metadata": {
        "id": "Us-pHBW97EEP"
      }
    },
    {
      "cell_type": "code",
      "execution_count": null,
      "metadata": {
        "id": "msssovR-jagM"
      },
      "outputs": [],
      "source": [
        "!pip install openai"
      ]
    },
    {
      "cell_type": "code",
      "source": [
        "!pip install langchain"
      ],
      "metadata": {
        "id": "bmmQ0SAYjtsV"
      },
      "execution_count": null,
      "outputs": []
    },
    {
      "cell_type": "code",
      "source": [
        "!pip install pypdf"
      ],
      "metadata": {
        "id": "zsoXC7DMjwA4"
      },
      "execution_count": null,
      "outputs": []
    },
    {
      "cell_type": "code",
      "source": [
        "!pip install chromadb"
      ],
      "metadata": {
        "id": "9m3pYgiXjyQ2"
      },
      "execution_count": null,
      "outputs": []
    },
    {
      "cell_type": "code",
      "source": [
        "!pip install tiktoken"
      ],
      "metadata": {
        "id": "_X6LYxz4mcAX"
      },
      "execution_count": null,
      "outputs": []
    },
    {
      "cell_type": "code",
      "source": [
        "import os\n",
        "import openai\n",
        "import numpy as np"
      ],
      "metadata": {
        "id": "C8K2xnn7j1Vx"
      },
      "execution_count": null,
      "outputs": []
    },
    {
      "cell_type": "markdown",
      "source": [
        "#### **Authentication for OpenAI API**"
      ],
      "metadata": {
        "id": "JfEiSk387LFl"
      }
    },
    {
      "cell_type": "code",
      "source": [
        "f = open('/content/openapi_key.txt')\n",
        "api_key = f.read()\n",
        "type(api_key)"
      ],
      "metadata": {
        "colab": {
          "base_uri": "https://localhost:8080/"
        },
        "id": "Iik5S0qPj3gl",
        "outputId": "23dc3405-be78-4e5e-bb38-dbb87e1d3d0e"
      },
      "execution_count": null,
      "outputs": [
        {
          "output_type": "execute_result",
          "data": {
            "text/plain": [
              "str"
            ]
          },
          "metadata": {},
          "execution_count": 8
        }
      ]
    },
    {
      "cell_type": "code",
      "source": [
        "os.environ['OPENAI_API_KEY'] = api_key\n",
        "openai.api_key= os.getenv('OPENAI_API_KEY')"
      ],
      "metadata": {
        "id": "fYW0Rc48j5vy"
      },
      "execution_count": null,
      "outputs": []
    },
    {
      "cell_type": "markdown",
      "source": [
        "### **Upload the vector db from previous step and unzip**"
      ],
      "metadata": {
        "id": "_wRuGC4j7Ote"
      }
    },
    {
      "cell_type": "code",
      "source": [
        "!unzip /content/docs.zip  -d /"
      ],
      "metadata": {
        "id": "l7XtmLhry0Mo"
      },
      "execution_count": null,
      "outputs": []
    },
    {
      "cell_type": "markdown",
      "source": [
        "### **Similarity Search**"
      ],
      "metadata": {
        "id": "bS4daVGZkB7D"
      }
    },
    {
      "cell_type": "code",
      "source": [
        "from langchain.vectorstores import Chroma\n",
        "from langchain.embeddings.openai import OpenAIEmbeddings\n",
        "persist_directory = 'docs/chroma/' #/content/content/docs //content/docs"
      ],
      "metadata": {
        "id": "i5N4BEtUkDtM"
      },
      "execution_count": 43,
      "outputs": []
    },
    {
      "cell_type": "code",
      "source": [
        "embedding = OpenAIEmbeddings()\n",
        "vectordb = Chroma(\n",
        "    persist_directory=persist_directory,\n",
        "    embedding_function=embedding\n",
        ")"
      ],
      "metadata": {
        "id": "9FgvlVE_kHOc"
      },
      "execution_count": 118,
      "outputs": []
    },
    {
      "cell_type": "code",
      "source": [
        "print(vectordb._collection.count())"
      ],
      "metadata": {
        "colab": {
          "base_uri": "https://localhost:8080/"
        },
        "id": "vSTR1XVRkQkw",
        "outputId": "ba34e387-9d67-42dd-b58d-783a73def73a"
      },
      "execution_count": 101,
      "outputs": [
        {
          "output_type": "stream",
          "name": "stdout",
          "text": [
            "10\n"
          ]
        }
      ]
    },
    {
      "cell_type": "code",
      "source": [
        "texts = [\n",
        "    \"\"\"The Amanita phalloides has a large and imposing epigeous (aboveground) fruiting body (basidiocarp).\"\"\",\n",
        "    \"\"\"A mushroom with a large fruiting body is the Amanita phalloides. Some varieties are all-white.\"\"\",\n",
        "    \"\"\"A. phalloides, a.k.a Death Cap, is one of the most poisonous of all known mushrooms.\"\"\",\n",
        "]"
      ],
      "metadata": {
        "id": "jBSmuwTskU4j"
      },
      "execution_count": 116,
      "outputs": []
    },
    {
      "cell_type": "code",
      "source": [
        "smalldb = Chroma.from_texts(texts, embedding=embedding)"
      ],
      "metadata": {
        "id": "DPWBScuMkZCr"
      },
      "execution_count": 119,
      "outputs": []
    },
    {
      "cell_type": "code",
      "source": [
        "question = \"Tell me about all-white mushrooms with large fruiting bodies\""
      ],
      "metadata": {
        "id": "GZqRF2FJkdVO"
      },
      "execution_count": 120,
      "outputs": []
    },
    {
      "cell_type": "code",
      "source": [
        "smalldb.similarity_search(question, k=2)"
      ],
      "metadata": {
        "colab": {
          "base_uri": "https://localhost:8080/"
        },
        "id": "kNJjEb0_kfLy",
        "outputId": "67909545-c559-44b9-d41c-cbb4d4141d44"
      },
      "execution_count": 121,
      "outputs": [
        {
          "output_type": "execute_result",
          "data": {
            "text/plain": [
              "[Document(page_content='A mushroom with a large fruiting body is the Amanita phalloides. Some varieties are all-white.'),\n",
              " Document(page_content='A mushroom with a large fruiting body is the Amanita phalloides. Some varieties are all-white.')]"
            ]
          },
          "metadata": {},
          "execution_count": 121
        }
      ]
    },
    {
      "cell_type": "markdown",
      "source": [
        "### **Addressing Diversity - MMR-Maximum Marginal Relevance**\n",
        "\n",
        "Last class we introduced one problem: how to enforce diversity in the search results.\n",
        "\n",
        "`Maximum marginal relevance` strives to achieve both relevance to the query *and diversity* among the results."
      ],
      "metadata": {
        "id": "oXRUX54Okmhj"
      }
    },
    {
      "cell_type": "code",
      "source": [
        "smalldb.max_marginal_relevance_search(question,k=2, fetch_k=3)\n",
        "## Expecting this as one result : \"\"A. phalloides, a.k.a Death Cap, is one of the most poisonous of all known mushrooms.\"\"\","
      ],
      "metadata": {
        "colab": {
          "base_uri": "https://localhost:8080/"
        },
        "id": "VDIRZADLkhF1",
        "outputId": "bc9d4b56-2c02-447f-d8db-f9ee882d8fc0"
      },
      "execution_count": 122,
      "outputs": [
        {
          "output_type": "execute_result",
          "data": {
            "text/plain": [
              "[Document(page_content='A mushroom with a large fruiting body is the Amanita phalloides. Some varieties are all-white.'),\n",
              " Document(page_content='A mushroom with a large fruiting body is the Amanita phalloides. Some varieties are all-white.')]"
            ]
          },
          "metadata": {},
          "execution_count": 122
        }
      ]
    },
    {
      "cell_type": "markdown",
      "source": [
        "### **Using the Vector DB created using doc1 and doc2**"
      ],
      "metadata": {
        "id": "4zlXaeyLF50W"
      }
    },
    {
      "cell_type": "code",
      "source": [
        "question = \"What does it say about Mahatma Gandhi?\"\n",
        "docs_ss = vectordb.similarity_search(question,k=3)"
      ],
      "metadata": {
        "id": "aWjpephSknWB"
      },
      "execution_count": 123,
      "outputs": []
    },
    {
      "cell_type": "code",
      "source": [
        "docs_ss[0].page_content[:500]"
      ],
      "metadata": {
        "colab": {
          "base_uri": "https://localhost:8080/",
          "height": 70
        },
        "id": "px8AGE-dknfb",
        "outputId": "f921e243-bbcc-4e62-ad06-51613402fa48"
      },
      "execution_count": 124,
      "outputs": [
        {
          "output_type": "execute_result",
          "data": {
            "text/plain": [
              "\"India's struggle for independence from British colonial rule is a significant chapter in its history. \\nLed by Mahatma Gandhi and other freedom fighters, the non-violent resistance movement \\ngained momentum and eventually led to India's independence on August 15, 1947. This day is \\ncelebrated annually as Independence Day.\\nIndia's economy is one of the fastest-growing in the world. It has transitioned from an agrarian \\neconomy to a service-oriented and industrialized economy. The country is known \""
            ],
            "application/vnd.google.colaboratory.intrinsic+json": {
              "type": "string"
            }
          },
          "metadata": {},
          "execution_count": 124
        }
      ]
    },
    {
      "cell_type": "code",
      "source": [
        "docs_ss[1].page_content[:500]"
      ],
      "metadata": {
        "colab": {
          "base_uri": "https://localhost:8080/",
          "height": 70
        },
        "id": "PSqeBrQKkniR",
        "outputId": "f10ee27f-6ef3-4aae-9bda-2846616a5f14"
      },
      "execution_count": 125,
      "outputs": [
        {
          "output_type": "execute_result",
          "data": {
            "text/plain": [
              "\"India's struggle for independence from British colonial rule is a significant chapter in its history. \\nLed by Mahatma Gandhi and other freedom fighters, the non-violent resistance movement \\ngained momentum and eventually led to India's independence on August 15, 1947. This day is \\ncelebrated annually as Independence Day.\\nIndia's economy is one of the fastest-growing in the world. It has transitioned from an agrarian \\neconomy to a service-oriented and industrialized economy. The country is known \""
            ],
            "application/vnd.google.colaboratory.intrinsic+json": {
              "type": "string"
            }
          },
          "metadata": {},
          "execution_count": 125
        }
      ]
    },
    {
      "cell_type": "markdown",
      "source": [
        "Note the difference in results with `MMR`."
      ],
      "metadata": {
        "id": "A7FgcCnnkuSG"
      }
    },
    {
      "cell_type": "code",
      "source": [
        "docs_mmr = vectordb.max_marginal_relevance_search(question,k=2)"
      ],
      "metadata": {
        "colab": {
          "base_uri": "https://localhost:8080/"
        },
        "id": "_EemdyaBknlJ",
        "outputId": "f0e9eecf-d501-429e-9355-b774a3c577ff"
      },
      "execution_count": 126,
      "outputs": [
        {
          "output_type": "stream",
          "name": "stderr",
          "text": [
            "WARNING:chromadb.segment.impl.vector.local_persistent_hnsw:Number of requested results 20 is greater than number of elements in index 10, updating n_results = 10\n"
          ]
        }
      ]
    },
    {
      "cell_type": "code",
      "source": [
        "docs_mmr[0].page_content[:500]"
      ],
      "metadata": {
        "colab": {
          "base_uri": "https://localhost:8080/",
          "height": 70
        },
        "id": "doxUAIp_knnv",
        "outputId": "dcb8ce15-585a-4e21-a732-33c42db732fc"
      },
      "execution_count": 127,
      "outputs": [
        {
          "output_type": "execute_result",
          "data": {
            "text/plain": [
              "\"India's struggle for independence from British colonial rule is a significant chapter in its history. \\nLed by Mahatma Gandhi and other freedom fighters, the non-violent resistance movement \\ngained momentum and eventually led to India's independence on August 15, 1947. This day is \\ncelebrated annually as Independence Day.\\nIndia's economy is one of the fastest-growing in the world. It has transitioned from an agrarian \\neconomy to a service-oriented and industrialized economy. The country is known \""
            ],
            "application/vnd.google.colaboratory.intrinsic+json": {
              "type": "string"
            }
          },
          "metadata": {},
          "execution_count": 127
        }
      ]
    },
    {
      "cell_type": "code",
      "source": [
        "docs_mmr[1].page_content[:500]"
      ],
      "metadata": {
        "colab": {
          "base_uri": "https://localhost:8080/",
          "height": 70
        },
        "id": "ONFaYNTDknqP",
        "outputId": "87e1efb5-8fbc-4200-a4ac-83a966887e21"
      },
      "execution_count": 128,
      "outputs": [
        {
          "output_type": "execute_result",
          "data": {
            "text/plain": [
              "\"India's cultural heritage is preserved in its ancient monuments and UNESCO World Heritage \\nSites. From the intricate carvings of Khajuraho temples to the majestic forts of Rajasthan, these\\narchitectural marvels reflect India's rich history and artistic traditions.\\nIndia's diversity extends to its languages as well. While Hindi and English are the official \\nlanguages at the national level, there are 22 officially recognized regional languages, including \\nBengali, Tamil, Telugu, Marathi, Urdu, Pun\""
            ],
            "application/vnd.google.colaboratory.intrinsic+json": {
              "type": "string"
            }
          },
          "metadata": {},
          "execution_count": 128
        }
      ]
    },
    {
      "cell_type": "markdown",
      "source": [
        "### **Addressing Specificity: Working with metadata - Manually**\n",
        "\n",
        "In last notebook, we showed that a question about the 2nd doc can include results from other lectures as well.\n",
        "\n",
        "To address this, many vectorstores support operations on `metadata`.\n",
        "\n",
        "`metadata` provides context for each embedded chunk."
      ],
      "metadata": {
        "id": "uN1JGRngkzte"
      }
    },
    {
      "cell_type": "code",
      "source": [
        "question = \"what did they say about about Tourism?\""
      ],
      "metadata": {
        "id": "A5n2lOanknsl"
      },
      "execution_count": 46,
      "outputs": []
    },
    {
      "cell_type": "code",
      "source": [
        "docs = vectordb.similarity_search(\n",
        "    question,\n",
        "    k=3,\n",
        "    filter={\"source\":'/content/doc2.pdf'} # manually passing metadata, using metadata filter.\n",
        ")"
      ],
      "metadata": {
        "id": "ckbm-knXknuq"
      },
      "execution_count": 129,
      "outputs": []
    },
    {
      "cell_type": "code",
      "source": [
        "docs"
      ],
      "metadata": {
        "colab": {
          "base_uri": "https://localhost:8080/"
        },
        "id": "vnYcBpO_tQMb",
        "outputId": "cfb0a059-97d9-4846-a773-78e17efcf497"
      },
      "execution_count": 130,
      "outputs": [
        {
          "output_type": "execute_result",
          "data": {
            "text/plain": [
              "[Document(page_content=\"India's diplomatic influence is also growing on the global stage. The country actively \\nparticipates in international forums and has strong bilateral relations with nations around the \\nworld. India is a founding member of the Non-Aligned Movement and plays an active role in \\nvarious international organizations, such as the United Nations and World Trade Organization.\\nIn conclusion, India is a vast and diverse country with a rich cultural heritage, stunning \\nlandscapes, and a rapidly growing economy. It is a nation where ancient traditions coexist with \\nmodern aspirations. Despite its challenges, India continues to evolve and leave an indelible \\nmark on the world, making it a fascinating and dynamic country to explore.\", metadata={'page': 1, 'source': '/content/doc2.pdf'}),\n",
              " Document(page_content='However, India also faces various socio-economic challenges. Poverty, income inequality, and \\nunemployment are persistent issues that the country strives to address. Efforts are being made\\nto improve education, healthcare, infrastructure, and social welfare programs to uplift \\nmarginalized sections of society.\\nEducation plays a vital role in India, with a strong emphasis on academic excellence. The \\ncountry has a vast network of schools, colleges, and universities, producing a large number of \\ngraduates every year. Indian professionals have made significant contributions in various fields \\nglobally, particularly in science, technology, engineering, and mathematics (STEM).\\nThe Indian film industry, popularly known as Bollywood, is a global phenomenon, producing the\\nlargest number of films annually. Indian cinema reflects the diversity and cultural richness of \\nthe country and has a massive following both within India and among the Indian diaspora \\nworldwide.', metadata={'page': 0, 'source': '/content/doc2.pdf'}),\n",
              " Document(page_content=\"India's cultural heritage is preserved in its ancient monuments and UNESCO World Heritage \\nSites. From the intricate carvings of Khajuraho temples to the majestic forts of Rajasthan, these\\narchitectural marvels reflect India's rich history and artistic traditions.\\nIndia's diversity extends to its languages as well. While Hindi and English are the official \\nlanguages at the national level, there are 22 officially recognized regional languages, including \\nBengali, Tamil, Telugu, Marathi, Urdu, Punjabi, and Gujarati, among others. This linguistic \\ndiversity is a testament to India's multicultural ethos.\\nIn recent years, India has made significant strides in space exploration. The Indian Space \\nResearch Organization (ISRO) has successfully launched satellites and missions, including the\\nMars Orbiter Mission (MOM), also known as Mangalyaan. These achievements have placed \\nIndia among the elite group of nations with advanced space programs.\", metadata={'page': 0, 'source': '/content/doc2.pdf'})]"
            ]
          },
          "metadata": {},
          "execution_count": 130
        }
      ]
    },
    {
      "cell_type": "code",
      "source": [
        "for d in docs:\n",
        "    print(d.metadata)"
      ],
      "metadata": {
        "id": "kMhTkjCbk5eP",
        "colab": {
          "base_uri": "https://localhost:8080/"
        },
        "outputId": "a424e63e-f153-44ae-887c-fae8b57baef4"
      },
      "execution_count": 131,
      "outputs": [
        {
          "output_type": "stream",
          "name": "stdout",
          "text": [
            "{'page': 1, 'source': '/content/doc2.pdf'}\n",
            "{'page': 0, 'source': '/content/doc2.pdf'}\n",
            "{'page': 0, 'source': '/content/doc2.pdf'}\n"
          ]
        }
      ]
    },
    {
      "cell_type": "markdown",
      "source": [
        "### **Addressing Specificity: Working with metadata using self-query retriever -Automatically**\n",
        "\n",
        "But we have an interesting challenge: we often want to infer the metadata from the query itself.\n",
        "\n",
        "To address this, we can use `SelfQueryRetriever`, which uses an LLM to extract:\n",
        "\n",
        "1. The `query` string to use for vector search\n",
        "2. A metadata filter to pass in as well\n",
        "\n",
        "Most vector databases support metadata filters, so this doesn't require any new databases or indexes."
      ],
      "metadata": {
        "id": "Nt_hvOW3k79e"
      }
    },
    {
      "cell_type": "code",
      "source": [
        "!pip install lark"
      ],
      "metadata": {
        "colab": {
          "base_uri": "https://localhost:8080/"
        },
        "id": "mHogGGrAo_Cg",
        "outputId": "f3c1690e-c458-4a6d-c61b-47455de89843"
      },
      "execution_count": 51,
      "outputs": [
        {
          "output_type": "stream",
          "name": "stdout",
          "text": [
            "Collecting lark\n",
            "  Downloading lark-1.1.7-py3-none-any.whl (108 kB)\n",
            "\u001b[?25l     \u001b[90m━━━━━━━━━━━━━━━━━━━━━━━━━━━━━━━━━━━━━━━━\u001b[0m \u001b[32m0.0/108.9 kB\u001b[0m \u001b[31m?\u001b[0m eta \u001b[36m-:--:--\u001b[0m\r\u001b[2K     \u001b[90m━━━━━━━━━━━━━━━━━━━━━━━━━━━━━━━━━━━━━━━\u001b[0m \u001b[32m108.9/108.9 kB\u001b[0m \u001b[31m3.1 MB/s\u001b[0m eta \u001b[36m0:00:00\u001b[0m\n",
            "\u001b[?25hInstalling collected packages: lark\n",
            "Successfully installed lark-1.1.7\n"
          ]
        }
      ]
    },
    {
      "cell_type": "code",
      "source": [
        "import lark"
      ],
      "metadata": {
        "id": "8mgiSN1mpYZn"
      },
      "execution_count": 52,
      "outputs": []
    },
    {
      "cell_type": "code",
      "source": [
        "from langchain.llms import OpenAI\n",
        "from langchain.retrievers.self_query.base import SelfQueryRetriever\n",
        "from langchain.chains.query_constructor.base import AttributeInfo"
      ],
      "metadata": {
        "id": "eax6e8M5k8t8"
      },
      "execution_count": 53,
      "outputs": []
    },
    {
      "cell_type": "code",
      "source": [
        "# This information is going to pass inside language model, so make it as descriptive as possible\n",
        "metadata_field_info = [\n",
        "    AttributeInfo(\n",
        "        name=\"source\",\n",
        "        description=\"The information chunk is from, should be one of `/content/doc1.pdf`, `/content/doc2.pdf`\",\n",
        "        type=\"string\",\n",
        "    ),\n",
        "    AttributeInfo(\n",
        "        name=\"page\",\n",
        "        description=\"The page from the doc\",\n",
        "        type=\"integer\",\n",
        "    ),\n",
        "]"
      ],
      "metadata": {
        "id": "voFsxyjXk8w3"
      },
      "execution_count": 132,
      "outputs": []
    },
    {
      "cell_type": "code",
      "source": [
        "document_content_description = \"Information about India\"\n",
        "llm = OpenAI(temperature=0)\n",
        "retriever = SelfQueryRetriever.from_llm(\n",
        "    llm,\n",
        "    vectordb,\n",
        "    document_content_description,\n",
        "    metadata_field_info,\n",
        "    verbose=True\n",
        ")"
      ],
      "metadata": {
        "id": "sa7C3Rxmk8zJ"
      },
      "execution_count": 133,
      "outputs": []
    },
    {
      "cell_type": "code",
      "source": [
        "question = \"Did they say anything about Tourism?\""
      ],
      "metadata": {
        "id": "swqk4Ssak89-"
      },
      "execution_count": 134,
      "outputs": []
    },
    {
      "cell_type": "markdown",
      "source": [
        "**You will receive a warning** about predict_and_parse being deprecated the first time you executing the next line. This can be safely ignored."
      ],
      "metadata": {
        "id": "Qa6qMhCblFVe"
      }
    },
    {
      "cell_type": "code",
      "source": [
        "docs = retriever.get_relevant_documents(question)"
      ],
      "metadata": {
        "colab": {
          "base_uri": "https://localhost:8080/"
        },
        "id": "wovHIVQNk9Bb",
        "outputId": "8262dba6-fa9e-4007-be8f-1da47d69ed9c"
      },
      "execution_count": 135,
      "outputs": [
        {
          "output_type": "stream",
          "name": "stdout",
          "text": [
            "query='Tourism' filter=None limit=None\n"
          ]
        }
      ]
    },
    {
      "cell_type": "code",
      "source": [
        "for d in docs:\n",
        "    print(d.metadata)"
      ],
      "metadata": {
        "colab": {
          "base_uri": "https://localhost:8080/"
        },
        "id": "1Jo_fNOtk9IW",
        "outputId": "60c23d63-c6d8-4472-e437-3f24d2328f22"
      },
      "execution_count": 136,
      "outputs": [
        {
          "output_type": "stream",
          "name": "stdout",
          "text": [
            "{'page': 1, 'source': '/content/doc2.pdf'}\n",
            "{'page': 0, 'source': '/content/doc2.pdf'}\n",
            "{'page': 0, 'source': '/content/doc2.pdf'}\n",
            "{'page': 0, 'source': '/content/doc2.pdf'}\n"
          ]
        }
      ]
    },
    {
      "cell_type": "code",
      "source": [
        "docs[0]"
      ],
      "metadata": {
        "colab": {
          "base_uri": "https://localhost:8080/"
        },
        "id": "gUA7lT2kuMUA",
        "outputId": "1ab4d27c-39c2-43c8-bf72-c02fd6cae22d"
      },
      "execution_count": 137,
      "outputs": [
        {
          "output_type": "execute_result",
          "data": {
            "text/plain": [
              "Document(page_content=\"India's diplomatic influence is also growing on the global stage. The country actively \\nparticipates in international forums and has strong bilateral relations with nations around the \\nworld. India is a founding member of the Non-Aligned Movement and plays an active role in \\nvarious international organizations, such as the United Nations and World Trade Organization.\\nIn conclusion, India is a vast and diverse country with a rich cultural heritage, stunning \\nlandscapes, and a rapidly growing economy. It is a nation where ancient traditions coexist with \\nmodern aspirations. Despite its challenges, India continues to evolve and leave an indelible \\nmark on the world, making it a fascinating and dynamic country to explore.\", metadata={'page': 1, 'source': '/content/doc2.pdf'})"
            ]
          },
          "metadata": {},
          "execution_count": 137
        }
      ]
    },
    {
      "cell_type": "code",
      "source": [
        "docs[1]"
      ],
      "metadata": {
        "colab": {
          "base_uri": "https://localhost:8080/"
        },
        "id": "xfXCkg-2uuGU",
        "outputId": "9ea21959-e7a3-41d4-df1d-1e52dd366cfb"
      },
      "execution_count": 138,
      "outputs": [
        {
          "output_type": "execute_result",
          "data": {
            "text/plain": [
              "Document(page_content='However, India also faces various socio-economic challenges. Poverty, income inequality, and \\nunemployment are persistent issues that the country strives to address. Efforts are being made\\nto improve education, healthcare, infrastructure, and social welfare programs to uplift \\nmarginalized sections of society.\\nEducation plays a vital role in India, with a strong emphasis on academic excellence. The \\ncountry has a vast network of schools, colleges, and universities, producing a large number of \\ngraduates every year. Indian professionals have made significant contributions in various fields \\nglobally, particularly in science, technology, engineering, and mathematics (STEM).\\nThe Indian film industry, popularly known as Bollywood, is a global phenomenon, producing the\\nlargest number of films annually. Indian cinema reflects the diversity and cultural richness of \\nthe country and has a massive following both within India and among the Indian diaspora \\nworldwide.', metadata={'page': 0, 'source': '/content/doc2.pdf'})"
            ]
          },
          "metadata": {},
          "execution_count": 138
        }
      ]
    },
    {
      "cell_type": "code",
      "source": [
        "docs[2]"
      ],
      "metadata": {
        "colab": {
          "base_uri": "https://localhost:8080/"
        },
        "id": "-vRZNXV-u01j",
        "outputId": "d11aafc6-f263-435d-e47a-4f3367600189"
      },
      "execution_count": 139,
      "outputs": [
        {
          "output_type": "execute_result",
          "data": {
            "text/plain": [
              "Document(page_content=\"worldwide.\\nIndian cuisine is renowned for its flavors, spices, and regional specialties. Each state has its \\nown culinary traditions, offering a wide range of vegetarian and non-vegetarian dishes. Indian \\nfood has gained international popularity, with dishes like curry, biryani, dosa, and tandoori \\nbeing enjoyed by people worldwide.\\nThe Indian rupee is the official currency in the Republic of India. The rupee is subdivided into \\n100 paise. The issuance of the currency is controlled by the Reserve Bank of India.\\n₹ The Indian rupee sign ( ) is the currency symbol for the Indian rupee the official currency of \\nIndia\\nTourism is a significant contributor to India's economy. The country attracts millions of visitors \\neach year who come to explore its historical sites, architectural wonders, wildlife sanctuaries, \\nand scenic landscapes. Iconic landmarks such as the Taj Mahal, Jaipur's palaces, Kerala's \\nbackwaters, and the beaches of Goa are popular tourist destinations.\", metadata={'page': 0, 'source': '/content/doc2.pdf'})"
            ]
          },
          "metadata": {},
          "execution_count": 139
        }
      ]
    },
    {
      "cell_type": "markdown",
      "source": [
        "### **Additional tricks: Compression**\n",
        "\n",
        "Another approach for improving the quality of retrieved docs is compression.\n",
        "\n",
        "Information most relevant to a query may be buried in a document with a lot of irrelevant text.\n",
        "\n",
        "Passing that full document through your application can lead to more expensive LLM calls and poorer responses.\n",
        "\n",
        "Contextual compression is meant to fix this."
      ],
      "metadata": {
        "id": "e9zMJuSklJ5a"
      }
    },
    {
      "cell_type": "code",
      "source": [
        "from langchain.retrievers import ContextualCompressionRetriever\n",
        "from langchain.retrievers.document_compressors import LLMChainExtractor"
      ],
      "metadata": {
        "id": "1xatqOa8lL9H"
      },
      "execution_count": 140,
      "outputs": []
    },
    {
      "cell_type": "code",
      "source": [
        "def pretty_print_docs(docs):\n",
        "    print(f\"\\n{'-' * 100}\\n\".join([f\"Document {i+1}:\\n\\n\" + d.page_content for i, d in enumerate(docs)]))\n"
      ],
      "metadata": {
        "id": "QCS3joANlMG8"
      },
      "execution_count": 141,
      "outputs": []
    },
    {
      "cell_type": "code",
      "source": [
        "# Wrap our vectorstore\n",
        "llm = OpenAI(temperature=0)\n",
        "compressor = LLMChainExtractor.from_llm(llm)"
      ],
      "metadata": {
        "id": "07sPlYI-lMNY"
      },
      "execution_count": 142,
      "outputs": []
    },
    {
      "cell_type": "code",
      "source": [
        "compression_retriever = ContextualCompressionRetriever(\n",
        "    base_compressor=compressor,\n",
        "    base_retriever=vectordb.as_retriever() # try with or without  -> search_type=\"mmr\"\n",
        ")"
      ],
      "metadata": {
        "id": "lWL0KNkLlMUA"
      },
      "execution_count": 143,
      "outputs": []
    },
    {
      "cell_type": "code",
      "source": [
        "question = \"What does it say about Mahatma Gandhi?\"\n",
        "compressed_docs = compression_retriever.get_relevant_documents(question)\n",
        "pretty_print_docs(compressed_docs)"
      ],
      "metadata": {
        "colab": {
          "base_uri": "https://localhost:8080/"
        },
        "id": "7EgTVj9vlMZ8",
        "outputId": "9e2d99c0-a1a3-4f40-b500-890ef4665a40"
      },
      "execution_count": 144,
      "outputs": [
        {
          "output_type": "stream",
          "name": "stdout",
          "text": [
            "Document 1:\n",
            "\n",
            "Led by Mahatma Gandhi and other freedom fighters, the non-violent resistance movement gained momentum and eventually led to India's independence on August 15, 1947.\n",
            "----------------------------------------------------------------------------------------------------\n",
            "Document 2:\n",
            "\n",
            "Led by Mahatma Gandhi and other freedom fighters, the non-violent resistance movement gained momentum and eventually led to India's independence on August 15, 1947.\n",
            "----------------------------------------------------------------------------------------------------\n",
            "Document 3:\n",
            "\n",
            "India is a founding member of the Non-Aligned Movement and plays an active role in various international organizations, such as the United Nations and World Trade Organization.\n",
            "----------------------------------------------------------------------------------------------------\n",
            "Document 4:\n",
            "\n",
            "\"Efforts are being made to improve education, healthcare, infrastructure, and social welfare programs to uplift marginalized sections of society.\" \"Education plays a vital role in India, with a strong emphasis on academic excellence.\" \"The country has a vast network of schools, colleges, and universities, producing a large number of graduates every year.\" \"Indian professionals have made significant contributions in various fields globally, particularly in science, technology, engineering, and mathematics (STEM).\" \"The Indian film industry, popularly known as Bollywood, is a global phenomenon, producing the largest number of films annually.\" \"Indian cinema reflects the diversity and cultural richness of the country and has a massive following both within India and among the Indian diaspora worldwide.\"\n"
          ]
        }
      ]
    },
    {
      "cell_type": "markdown",
      "source": [
        "#### Combining mmr techniques"
      ],
      "metadata": {
        "id": "SGrlzn74la3Q"
      }
    },
    {
      "cell_type": "code",
      "source": [
        "compression_retriever = ContextualCompressionRetriever(\n",
        "    base_compressor=compressor,\n",
        "    base_retriever=vectordb.as_retriever(search_type = \"mmr\")\n",
        ")"
      ],
      "metadata": {
        "id": "F8oFV8y0lMfp"
      },
      "execution_count": 145,
      "outputs": []
    },
    {
      "cell_type": "code",
      "source": [
        "question = \"What does it say about Mahatma Gandhi?\"\n",
        "compressed_docs = compression_retriever.get_relevant_documents(question)\n",
        "pretty_print_docs(compressed_docs)"
      ],
      "metadata": {
        "colab": {
          "base_uri": "https://localhost:8080/"
        },
        "id": "grTNnUbllb4D",
        "outputId": "435aa5fd-9589-40a3-e79f-086420a0b0ae"
      },
      "execution_count": 146,
      "outputs": [
        {
          "output_type": "stream",
          "name": "stderr",
          "text": [
            "WARNING:chromadb.segment.impl.vector.local_persistent_hnsw:Number of requested results 20 is greater than number of elements in index 10, updating n_results = 10\n"
          ]
        },
        {
          "output_type": "stream",
          "name": "stdout",
          "text": [
            "Document 1:\n",
            "\n",
            "Led by Mahatma Gandhi and other freedom fighters, the non-violent resistance movement gained momentum and eventually led to India's independence on August 15, 1947.\n",
            "----------------------------------------------------------------------------------------------------\n",
            "Document 2:\n",
            "\n",
            "India is a founding member of the Non-Aligned Movement and plays an active role in various international organizations, such as the United Nations and World Trade Organization.\n",
            "----------------------------------------------------------------------------------------------------\n",
            "Document 3:\n",
            "\n",
            "\"Efforts are being made to improve education, healthcare, infrastructure, and social welfare programs to uplift marginalized sections of society.\" \"Education plays a vital role in India, with a strong emphasis on academic excellence.\" \"The country has a vast network of schools, colleges, and universities, producing a large number of graduates every year.\" \"Indian professionals have made significant contributions in various fields globally, particularly in science, technology, engineering, and mathematics (STEM).\" \"The Indian film industry, popularly known as Bollywood, is a global phenomenon, producing the largest number of films annually.\" \"Indian cinema reflects the diversity and cultural richness of the country and has a massive following both within India and among the Indian diaspora worldwide.\"\n"
          ]
        }
      ]
    },
    {
      "cell_type": "markdown",
      "source": [
        "### **Other types of retrieval**\n",
        "\n",
        "It's worth noting that vectordb are not the only kind of tool to retrieve documents.\n",
        "\n",
        "The `LangChain` retriever abstraction includes other ways to retrieve documents, such as TF-IDF or SVM."
      ],
      "metadata": {
        "id": "hg28576olg5q"
      }
    },
    {
      "cell_type": "code",
      "source": [
        "from langchain.retrievers import SVMRetriever\n",
        "from langchain.retrievers import TFIDFRetriever\n",
        "from langchain.document_loaders import PyPDFLoader\n",
        "from langchain.text_splitter import RecursiveCharacterTextSplitter"
      ],
      "metadata": {
        "id": "jUQh5CrFlb6-"
      },
      "execution_count": 147,
      "outputs": []
    },
    {
      "cell_type": "code",
      "source": [
        "# Load PDF\n",
        "loader = PyPDFLoader(\"/content/doc1.pdf\")\n",
        "pages = loader.load()\n",
        "all_page_text=[p.page_content for p in pages]\n",
        "joined_page_text=\" \".join(all_page_text)\n",
        "\n",
        "# Split\n",
        "text_splitter = RecursiveCharacterTextSplitter(chunk_size = 1500,chunk_overlap = 150)\n",
        "splits = text_splitter.split_text(joined_page_text)"
      ],
      "metadata": {
        "id": "sfisZ-N2lb97"
      },
      "execution_count": 149,
      "outputs": []
    },
    {
      "cell_type": "code",
      "source": [
        "# Retrieve\n",
        "svm_retriever = SVMRetriever.from_texts(splits,embedding)\n",
        "tfidf_retriever = TFIDFRetriever.from_texts(splits)"
      ],
      "metadata": {
        "id": "4odKFjRmlcEM"
      },
      "execution_count": 150,
      "outputs": []
    },
    {
      "cell_type": "code",
      "source": [
        "question = \"What does it say about Mahatma Gandhi?\"\n",
        "docs_svm=svm_retriever.get_relevant_documents(question)\n",
        "print(docs_svm[0].page_content)"
      ],
      "metadata": {
        "id": "ge-PsvBMlcLF",
        "colab": {
          "base_uri": "https://localhost:8080/"
        },
        "outputId": "d42dc023-95ba-4fee-a5d9-97fbb5d4a57c"
      },
      "execution_count": 151,
      "outputs": [
        {
          "output_type": "stream",
          "name": "stdout",
          "text": [
            "people from different communities together.\n",
            "The history of India is characterized by ancient civilizations, invasions, and the establishment of\n",
            "powerful empires. The Indus Valley Civilization, one of the world's oldest urban civilizations, \n",
            "flourished in the northwestern part of the Indian subcontinent around 2500 BCE. Over the \n",
            "centuries, India witnessed the rise and fall of several dynasties, including the Maurya, Gupta, \n",
            "and Mughal empires. The Mughal period, in particular, left a lasting impact on Indian culture, \n",
            "art, and architecture.\n",
            "India's struggle for independence from British colonial rule is a significant chapter in its history. \n",
            "Led by Mahatma Gandhi and other freedom fighters, the non-violent resistance movement \n",
            "gained momentum and eventually led to India's independence on August 15, 1947. This day is \n",
            "celebrated annually as Independence Day.\n",
            "India's economy is one of the fastest-growing in the world. It has transitioned from an agrarian \n",
            "economy to a service-oriented and industrialized economy. The country is known for its \n",
            "software and information technology services, pharmaceuticals, textiles, agriculture, and \n",
            "manufacturing sectors. Major cities like Mumbai, Delhi, Bangalore, and Chennai are hubs of \n",
            "business and commerce, attracting investments and fostering innovation.\n",
            "Delhi is the capital of India\n"
          ]
        }
      ]
    },
    {
      "cell_type": "code",
      "source": [
        "question = \"What does it say about Mahatma Gandhi?\"\n",
        "docs_tfidf=tfidf_retriever.get_relevant_documents(question)\n",
        "print(docs_tfidf[0].page_content)"
      ],
      "metadata": {
        "id": "PVGtrsaXlo8s",
        "colab": {
          "base_uri": "https://localhost:8080/"
        },
        "outputId": "784d97ca-04a9-4653-8963-2e163cff60b8"
      },
      "execution_count": 153,
      "outputs": [
        {
          "output_type": "stream",
          "name": "stdout",
          "text": [
            "people from different communities together.\n",
            "The history of India is characterized by ancient civilizations, invasions, and the establishment of\n",
            "powerful empires. The Indus Valley Civilization, one of the world's oldest urban civilizations, \n",
            "flourished in the northwestern part of the Indian subcontinent around 2500 BCE. Over the \n",
            "centuries, India witnessed the rise and fall of several dynasties, including the Maurya, Gupta, \n",
            "and Mughal empires. The Mughal period, in particular, left a lasting impact on Indian culture, \n",
            "art, and architecture.\n",
            "India's struggle for independence from British colonial rule is a significant chapter in its history. \n",
            "Led by Mahatma Gandhi and other freedom fighters, the non-violent resistance movement \n",
            "gained momentum and eventually led to India's independence on August 15, 1947. This day is \n",
            "celebrated annually as Independence Day.\n",
            "India's economy is one of the fastest-growing in the world. It has transitioned from an agrarian \n",
            "economy to a service-oriented and industrialized economy. The country is known for its \n",
            "software and information technology services, pharmaceuticals, textiles, agriculture, and \n",
            "manufacturing sectors. Major cities like Mumbai, Delhi, Bangalore, and Chennai are hubs of \n",
            "business and commerce, attracting investments and fostering innovation.\n",
            "Delhi is the capital of India\n"
          ]
        }
      ]
    },
    {
      "cell_type": "markdown",
      "source": [
        "### **Retrieval + Question Answering :  Connecting with LLMs**"
      ],
      "metadata": {
        "id": "bgmcaca33is1"
      }
    },
    {
      "cell_type": "code",
      "source": [
        "llm_name = \"gpt-3.5-turbo\"\n",
        "print(llm_name)"
      ],
      "metadata": {
        "colab": {
          "base_uri": "https://localhost:8080/"
        },
        "id": "SzjGr1dt4h4O",
        "outputId": "32f1643e-866d-49fd-8522-731d97387a5b"
      },
      "execution_count": 160,
      "outputs": [
        {
          "output_type": "stream",
          "name": "stdout",
          "text": [
            "gpt-3.5-turbo\n"
          ]
        }
      ]
    },
    {
      "cell_type": "code",
      "source": [
        "from langchain.vectorstores import Chroma\n",
        "from langchain.embeddings.openai import OpenAIEmbeddings\n",
        "persist_directory = 'docs/chroma/'\n",
        "embedding = OpenAIEmbeddings()\n",
        "vectordb = Chroma(persist_directory=persist_directory, embedding_function=embedding)"
      ],
      "metadata": {
        "id": "lxCV2tb64lBQ"
      },
      "execution_count": 161,
      "outputs": []
    },
    {
      "cell_type": "code",
      "source": [
        "print(vectordb._collection.count())"
      ],
      "metadata": {
        "colab": {
          "base_uri": "https://localhost:8080/"
        },
        "id": "HiMcgtUx4ngg",
        "outputId": "aab4aa55-2bf1-4c16-ce0b-cf2070b5a171"
      },
      "execution_count": 162,
      "outputs": [
        {
          "output_type": "stream",
          "name": "stdout",
          "text": [
            "10\n"
          ]
        }
      ]
    },
    {
      "cell_type": "code",
      "source": [
        "question = \"What does it say about Mahatma Gandhi?\"\n",
        "docs = vectordb.similarity_search(question,k=3)\n",
        "len(docs)"
      ],
      "metadata": {
        "colab": {
          "base_uri": "https://localhost:8080/"
        },
        "id": "dGDmLDor4tIr",
        "outputId": "85373795-fd84-4db6-dcfb-4208354cd35d"
      },
      "execution_count": 163,
      "outputs": [
        {
          "output_type": "execute_result",
          "data": {
            "text/plain": [
              "3"
            ]
          },
          "metadata": {},
          "execution_count": 163
        }
      ]
    },
    {
      "cell_type": "code",
      "source": [
        "from langchain.chat_models import ChatOpenAI\n",
        "llm = ChatOpenAI(model_name=llm_name, temperature=0)"
      ],
      "metadata": {
        "id": "i1nYE2oY45yS"
      },
      "execution_count": 164,
      "outputs": []
    },
    {
      "cell_type": "markdown",
      "source": [
        "### **RetrievalQA chain**"
      ],
      "metadata": {
        "id": "utmMfDH_49nA"
      }
    },
    {
      "cell_type": "code",
      "source": [
        "from langchain.chains import RetrievalQA"
      ],
      "metadata": {
        "id": "d6p3T09q4_hw"
      },
      "execution_count": 165,
      "outputs": []
    },
    {
      "cell_type": "code",
      "source": [
        "qa_chain = RetrievalQA.from_chain_type(llm, retriever=vectordb.as_retriever())"
      ],
      "metadata": {
        "id": "voPVERta5CQd"
      },
      "execution_count": 166,
      "outputs": []
    },
    {
      "cell_type": "code",
      "source": [
        "result = qa_chain({\"query\": question})"
      ],
      "metadata": {
        "id": "egZohcxJ5FNo"
      },
      "execution_count": 167,
      "outputs": []
    },
    {
      "cell_type": "code",
      "source": [
        "result[\"result\"]"
      ],
      "metadata": {
        "id": "nz8g43Vi5HNx",
        "colab": {
          "base_uri": "https://localhost:8080/",
          "height": 70
        },
        "outputId": "c426d00f-45fb-47f1-a02e-5453ad2c87bf"
      },
      "execution_count": 168,
      "outputs": [
        {
          "output_type": "execute_result",
          "data": {
            "text/plain": [
              "\"The context mentions that Mahatma Gandhi was a leader of the non-violent resistance movement during India's struggle for independence from British colonial rule. He played a significant role in gaining momentum for the movement, which eventually led to India's independence on August 15, 1947. Mahatma Gandhi is widely recognized as a key figure in India's history and is known for his principles of non-violence and civil disobedience.\""
            ],
            "application/vnd.google.colaboratory.intrinsic+json": {
              "type": "string"
            }
          },
          "metadata": {},
          "execution_count": 168
        }
      ]
    },
    {
      "cell_type": "markdown",
      "source": [
        "### Prompt"
      ],
      "metadata": {
        "id": "l3iWrneq6UXs"
      }
    },
    {
      "cell_type": "code",
      "source": [
        "from langchain.prompts import PromptTemplate\n",
        "\n",
        "# Build prompt\n",
        "template = \"\"\"Use the following pieces of context to answer the question at the end. If you don't know the answer, just say that you don't know, don't try to make up an answer. Use three sentences maximum. Keep the answer as concise as possible. Always say \"thanks for asking!\" at the end of the answer.\n",
        "{context}\n",
        "Question: {question}\n",
        "Helpful Answer:\"\"\"\n",
        "QA_CHAIN_PROMPT = PromptTemplate.from_template(template)"
      ],
      "metadata": {
        "id": "qa49uxnf6TjK"
      },
      "execution_count": 169,
      "outputs": []
    },
    {
      "cell_type": "code",
      "source": [
        "# Run chain\n",
        "qa_chain = RetrievalQA.from_chain_type(\n",
        "    llm,\n",
        "    retriever=vectordb.as_retriever(),\n",
        "    return_source_documents=True,\n",
        "    chain_type_kwargs={\"prompt\": QA_CHAIN_PROMPT}\n",
        ")"
      ],
      "metadata": {
        "id": "YqAk-zYo6aq_"
      },
      "execution_count": 170,
      "outputs": []
    },
    {
      "cell_type": "code",
      "source": [
        "question = \"what is there about cultural heritage? Elaborate.\""
      ],
      "metadata": {
        "id": "JSdk7HRP6dS2"
      },
      "execution_count": 172,
      "outputs": []
    },
    {
      "cell_type": "code",
      "source": [
        "result = qa_chain({\"query\": question})"
      ],
      "metadata": {
        "id": "TyxNuGmS6fHN"
      },
      "execution_count": 173,
      "outputs": []
    },
    {
      "cell_type": "code",
      "source": [
        "result[\"result\"]"
      ],
      "metadata": {
        "id": "DG6ywo7U6g_e",
        "colab": {
          "base_uri": "https://localhost:8080/",
          "height": 70
        },
        "outputId": "13af0cf5-7c13-4119-8eaf-9e7b072eae37"
      },
      "execution_count": 175,
      "outputs": [
        {
          "output_type": "execute_result",
          "data": {
            "text/plain": [
              "\"India's cultural heritage is preserved in its ancient monuments and UNESCO World Heritage Sites, showcasing its rich history and artistic traditions. The country's diverse religions and languages contribute to its multicultural fabric, with festivals celebrated by different communities. India's cultural heritage is a testament to its ancient civilizations, powerful empires, and the lasting impact of the Mughal period. Thanks for asking!\""
            ],
            "application/vnd.google.colaboratory.intrinsic+json": {
              "type": "string"
            }
          },
          "metadata": {},
          "execution_count": 175
        }
      ]
    },
    {
      "cell_type": "code",
      "source": [
        "result[\"source_documents\"][0]"
      ],
      "metadata": {
        "id": "pba_h7bx6i_5",
        "colab": {
          "base_uri": "https://localhost:8080/"
        },
        "outputId": "8f847d4d-10a1-4ee0-df0d-5c668fe3529a"
      },
      "execution_count": 174,
      "outputs": [
        {
          "output_type": "execute_result",
          "data": {
            "text/plain": [
              "Document(page_content=\"India's cultural heritage is preserved in its ancient monuments and UNESCO World Heritage \\nSites. From the intricate carvings of Khajuraho temples to the majestic forts of Rajasthan, these\\narchitectural marvels reflect India's rich history and artistic traditions.\\nIndia's diversity extends to its languages as well. While Hindi and English are the official \\nlanguages at the national level, there are 22 officially recognized regional languages, including \\nBengali, Tamil, Telugu, Marathi, Urdu, Punjabi, and Gujarati, among others. This linguistic \\ndiversity is a testament to India's multicultural ethos.\\nIn recent years, India has made significant strides in space exploration. The Indian Space \\nResearch Organization (ISRO) has successfully launched satellites and missions, including the\\nMars Orbiter Mission (MOM), also known as Mangalyaan. These achievements have placed \\nIndia among the elite group of nations with advanced space programs.\", metadata={'page': 0, 'source': '/content/doc2.pdf'})"
            ]
          },
          "metadata": {},
          "execution_count": 174
        }
      ]
    },
    {
      "cell_type": "markdown",
      "source": [
        "### RetrievalQA chain types : Map reduce, Refine, Map rerank"
      ],
      "metadata": {
        "id": "Ps-9-DX87IRl"
      }
    },
    {
      "cell_type": "code",
      "source": [
        "qa_chain_mr = RetrievalQA.from_chain_type(\n",
        "    llm,\n",
        "    retriever=vectordb.as_retriever(),\n",
        "    chain_type=\"map_reduce\"\n",
        ")"
      ],
      "metadata": {
        "id": "-581Mhhf7Lqx"
      },
      "execution_count": 176,
      "outputs": []
    },
    {
      "cell_type": "code",
      "source": [
        "result = qa_chain_mr({\"query\": question})"
      ],
      "metadata": {
        "id": "HKAOomOA7NgU"
      },
      "execution_count": 177,
      "outputs": []
    },
    {
      "cell_type": "code",
      "source": [
        "result[\"result\"]"
      ],
      "metadata": {
        "id": "G1zIXR0k7PF1",
        "colab": {
          "base_uri": "https://localhost:8080/",
          "height": 123
        },
        "outputId": "f50c6414-311e-4cba-c41f-4f15faba6bd7"
      },
      "execution_count": 178,
      "outputs": [
        {
          "output_type": "execute_result",
          "data": {
            "text/plain": [
              "\"India's cultural heritage is a rich and diverse tapestry of traditions, art forms, architecture, religions, and cuisines that have evolved over thousands of years. It is deeply rooted in the country's history and serves as a testament to its cultural diversity and artistic traditions.\\n\\nOne aspect of India's cultural heritage is its ancient monuments and UNESCO World Heritage Sites. These architectural marvels, such as the intricate carvings of Khajuraho temples and the majestic forts of Rajasthan, reflect India's rich history and showcase the skills and craftsmanship of past civilizations. They not only hold historical significance but also contribute to the artistic and architectural heritage of the world.\\n\\nReligion also plays a significant role in India's cultural heritage. The country is the birthplace of major religions like Hinduism, Buddhism, Jainism, and Sikhism. Temples, mosques, churches, and gurudwaras can be found in every corner of the country, each reflecting unique architectural styles and religious practices. Festivals like Diwali, Eid, Christmas, and Holi are celebrated with great enthusiasm and bring people from different communities together, contributing to India's multicultural fabric.\\n\\nIndia's cultural heritage is also evident in its diverse cuisine. Each region of the country has its own distinct flavors and cooking techniques. From the spicy curries of the south to the rich Mughlai cuisine of the north, Indian food is a reflection of the country's cultural diversity.\\n\\nArt forms and music are also integral parts of India's cultural heritage. Classical music and dance forms like Hindustani and Carnatic music, Bharatanatyam, Kathak, and Odissi have been passed down through generations. Traditional art forms like Madhubani and Tanjore paintings showcase the artistic skills and creativity of Indian artists.\\n\\nOverall, India's cultural heritage is a source of pride for the country. It is celebrated and preserved by its people, serving as an integral part of India's identity and a symbol of national pride.\""
            ],
            "application/vnd.google.colaboratory.intrinsic+json": {
              "type": "string"
            }
          },
          "metadata": {},
          "execution_count": 178
        }
      ]
    },
    {
      "cell_type": "markdown",
      "source": [
        "### **Make it like chatbot & Adding memory**\n",
        "\n",
        "In initial steps are similar as above : Upload your vectro db, credentials, initialize vectordb, embeddings etc"
      ],
      "metadata": {
        "id": "_oyoRMZotpFc"
      }
    },
    {
      "cell_type": "code",
      "source": [
        "llm_name = \"gpt-3.5-turbo\""
      ],
      "metadata": {
        "id": "DZ4DkhEYwZbx"
      },
      "execution_count": 179,
      "outputs": []
    },
    {
      "cell_type": "code",
      "source": [
        "from langchain.vectorstores import Chroma\n",
        "from langchain.embeddings.openai import OpenAIEmbeddings\n",
        "persist_directory = 'docs/chroma/'\n",
        "embedding = OpenAIEmbeddings()\n",
        "vectordb = Chroma(persist_directory=persist_directory, embedding_function=embedding)"
      ],
      "metadata": {
        "id": "l9DQvMhpvHS4"
      },
      "execution_count": 180,
      "outputs": []
    },
    {
      "cell_type": "code",
      "source": [
        "question = \"What are places to visit for tourists?\"\n",
        "docs = vectordb.similarity_search(question,k=3)\n",
        "len(docs)"
      ],
      "metadata": {
        "id": "zXlimHWqvMjh",
        "colab": {
          "base_uri": "https://localhost:8080/"
        },
        "outputId": "a3d35a87-d53c-4a91-9c94-7f6a35fd243f"
      },
      "execution_count": 181,
      "outputs": [
        {
          "output_type": "execute_result",
          "data": {
            "text/plain": [
              "3"
            ]
          },
          "metadata": {},
          "execution_count": 181
        }
      ]
    },
    {
      "cell_type": "code",
      "source": [
        "docs[0].page_content"
      ],
      "metadata": {
        "id": "bzO-OtDfvp8D",
        "colab": {
          "base_uri": "https://localhost:8080/",
          "height": 122
        },
        "outputId": "dfed5f4b-db81-45e2-eea2-0dab9a4f2158"
      },
      "execution_count": 186,
      "outputs": [
        {
          "output_type": "execute_result",
          "data": {
            "text/plain": [
              "\"India's cultural heritage is preserved in its ancient monuments and UNESCO World Heritage \\nSites. From the intricate carvings of Khajuraho temples to the majestic forts of Rajasthan, these\\narchitectural marvels reflect India's rich history and artistic traditions.\\nIndia's diversity extends to its languages as well. While Hindi and English are the official \\nlanguages at the national level, there are 22 officially recognized regional languages, including \\nBengali, Tamil, Telugu, Marathi, Urdu, Punjabi, and Gujarati, among others. This linguistic \\ndiversity is a testament to India's multicultural ethos.\\nIn recent years, India has made significant strides in space exploration. The Indian Space \\nResearch Organization (ISRO) has successfully launched satellites and missions, including the\\nMars Orbiter Mission (MOM), also known as Mangalyaan. These achievements have placed \\nIndia among the elite group of nations with advanced space programs.\""
            ],
            "application/vnd.google.colaboratory.intrinsic+json": {
              "type": "string"
            }
          },
          "metadata": {},
          "execution_count": 186
        }
      ]
    },
    {
      "cell_type": "code",
      "source": [
        "from langchain.chat_models import ChatOpenAI\n",
        "llm = ChatOpenAI(model_name=llm_name, temperature=0)\n",
        "llm.predict(\"Hello world!\")"
      ],
      "metadata": {
        "id": "0o6QFkrlwJ_Z",
        "colab": {
          "base_uri": "https://localhost:8080/",
          "height": 36
        },
        "outputId": "20bdddf8-3bec-41c2-eb33-5acceaa0df91"
      },
      "execution_count": 187,
      "outputs": [
        {
          "output_type": "execute_result",
          "data": {
            "text/plain": [
              "'Hello! How can I assist you today?'"
            ],
            "application/vnd.google.colaboratory.intrinsic+json": {
              "type": "string"
            }
          },
          "metadata": {},
          "execution_count": 187
        }
      ]
    },
    {
      "cell_type": "code",
      "source": [
        "# Build prompt\n",
        "from langchain.prompts import PromptTemplate\n",
        "template = \"\"\"Use the following pieces of context to answer the question at the end. If you don't know the answer, just say that you don't know, don't try to make up an answer. Use three sentences maximum. Keep the answer as concise as possible. Always say \"thanks for asking!\" at the end of the answer.\n",
        "{context}\n",
        "Question: {question}\n",
        "Helpful Answer:\"\"\"\n",
        "QA_CHAIN_PROMPT = PromptTemplate(input_variables=[\"context\", \"question\"],template=template,)\n",
        "\n",
        "# Run chain\n",
        "from langchain.chains import RetrievalQA\n",
        "question = \"What are places to visit for tourists?\"\n",
        "qa_chain = RetrievalQA.from_chain_type(llm,\n",
        "                                       retriever=vectordb.as_retriever(),\n",
        "                                       return_source_documents=True,\n",
        "                                       chain_type_kwargs={\"prompt\": QA_CHAIN_PROMPT})\n",
        "\n",
        "\n",
        "result = qa_chain({\"query\": question})\n",
        "result[\"result\"]"
      ],
      "metadata": {
        "id": "FP2hWJPVwiYA",
        "colab": {
          "base_uri": "https://localhost:8080/",
          "height": 36
        },
        "outputId": "17446370-7319-4ddc-9a7c-8f79527b64c1"
      },
      "execution_count": 188,
      "outputs": [
        {
          "output_type": "execute_result",
          "data": {
            "text/plain": [
              "\"Some popular tourist destinations in India include the Taj Mahal, Jaipur's palaces, Kerala's backwaters, and the beaches of Goa. Thanks for asking!\""
            ],
            "application/vnd.google.colaboratory.intrinsic+json": {
              "type": "string"
            }
          },
          "metadata": {},
          "execution_count": 188
        }
      ]
    },
    {
      "cell_type": "markdown",
      "source": [
        "### **Adding Memory**"
      ],
      "metadata": {
        "id": "AYfZeN-7xREo"
      }
    },
    {
      "cell_type": "code",
      "source": [
        "from langchain.memory import ConversationBufferMemory\n",
        "memory = ConversationBufferMemory(\n",
        "    memory_key=\"chat_history\",\n",
        "    return_messages=True\n",
        ")"
      ],
      "metadata": {
        "id": "fcjpXfO2xOwR"
      },
      "execution_count": 190,
      "outputs": []
    },
    {
      "cell_type": "code",
      "source": [
        "from langchain.chains import ConversationalRetrievalChain\n",
        "retriever=vectordb.as_retriever()\n",
        "qa = ConversationalRetrievalChain.from_llm(\n",
        "    llm,\n",
        "    retriever=retriever,\n",
        "    memory=memory\n",
        ")"
      ],
      "metadata": {
        "id": "ZMiBRhx0xVyN"
      },
      "execution_count": 191,
      "outputs": []
    },
    {
      "cell_type": "code",
      "source": [
        "question = \"tell me something about India\"\n",
        "result = qa({\"question\": question})"
      ],
      "metadata": {
        "id": "yX_ct99AxZ_Q"
      },
      "execution_count": 192,
      "outputs": []
    },
    {
      "cell_type": "code",
      "source": [
        "result['answer']"
      ],
      "metadata": {
        "id": "wE0OraPaxaHT",
        "colab": {
          "base_uri": "https://localhost:8080/",
          "height": 123
        },
        "outputId": "621e74e7-af64-40fb-9c54-796c05e0a088"
      },
      "execution_count": 193,
      "outputs": [
        {
          "output_type": "execute_result",
          "data": {
            "text/plain": [
              "\"India, officially known as the Republic of India, is a diverse and vibrant country located in South Asia. With a rich history spanning thousands of years, India is known for its cultural heritage, religious diversity, and vast landscapes. From the majestic Himalayas in the north to the serene backwaters of Kerala in the south, India encompasses a wide range of geographical features, including deserts, plains, mountains, and coastlines, making it a land of incredible natural beauty.\\n\\nIndia is the seventh-largest country by land area and the second-most populous country in the world, with a population exceeding 1.3 billion people. It is a federal parliamentary democratic republic, with a president as the head of state and a prime minister as the head of government. The country follows a multi-tiered administrative structure, with 28 states and 9 union territories, each having its own elected government.\\n\\nIndia has a rich cultural heritage that has evolved over thousands of years. It is home to various religions, including Hinduism, Islam, Christianity, Sikhism, Buddhism, and Jainism, among others. These religions coexist harmoniously, contributing to India's multicultural fabric. Festivals like Diwali, Eid, Christmas, and Holi are celebrated with great enthusiasm and bring people from different communities together.\\n\\nThe history of India is characterized by ancient civilizations, invasions, and the establishment of powerful empires. The Indus Valley Civilization, one of the world's oldest urban civilizations, flourished in the northwestern part of the Indian subcontinent around 2500 BCE. Over the centuries, India witnessed the rise and fall of several dynasties, including the Maurya, Gupta, and Mughal empires. The Mughal period, in particular, left a lasting impact on Indian culture, art, and architecture.\""
            ],
            "application/vnd.google.colaboratory.intrinsic+json": {
              "type": "string"
            }
          },
          "metadata": {},
          "execution_count": 193
        }
      ]
    },
    {
      "cell_type": "code",
      "source": [
        "question = \"please list the religions followed there?\"\n",
        "result = qa({\"question\": question})"
      ],
      "metadata": {
        "id": "BP-nbp5WxaPP"
      },
      "execution_count": 194,
      "outputs": []
    },
    {
      "cell_type": "code",
      "source": [
        "result['answer']"
      ],
      "metadata": {
        "id": "XBAPKyRdyk8A",
        "colab": {
          "base_uri": "https://localhost:8080/",
          "height": 53
        },
        "outputId": "e088fd8a-cd80-4a87-8b3d-50de6832286b"
      },
      "execution_count": 195,
      "outputs": [
        {
          "output_type": "execute_result",
          "data": {
            "text/plain": [
              "\"In India, various religions are followed, including Hinduism, Islam, Christianity, Sikhism, Buddhism, and Jainism, among others. These religions coexist harmoniously, contributing to India's multicultural fabric.\""
            ],
            "application/vnd.google.colaboratory.intrinsic+json": {
              "type": "string"
            }
          },
          "metadata": {},
          "execution_count": 195
        }
      ]
    },
    {
      "cell_type": "code",
      "source": [
        "question = \"I am Ramendra, I want to visit few places there, please suggest.\"\n",
        "result = qa({\"question\": question})"
      ],
      "metadata": {
        "id": "JRQMK1z8qv0q"
      },
      "execution_count": 201,
      "outputs": []
    },
    {
      "cell_type": "code",
      "source": [
        "print(result['answer'])"
      ],
      "metadata": {
        "colab": {
          "base_uri": "https://localhost:8080/"
        },
        "id": "aB8dW6bZrAH0",
        "outputId": "57c1534a-b46e-4d33-9a01-f8ddce825cd0"
      },
      "execution_count": 202,
      "outputs": [
        {
          "output_type": "stream",
          "name": "stdout",
          "text": [
            "There are numerous incredible places to visit in India. Here are some popular suggestions:\n",
            "\n",
            "1. Taj Mahal, Agra: One of the Seven Wonders of the World, this iconic white marble mausoleum is a must-visit for its stunning architecture and romantic history.\n",
            "\n",
            "2. Jaipur, Rajasthan: Known as the \"Pink City,\" Jaipur offers a glimpse into the royal heritage of Rajasthan with its magnificent palaces, forts, and vibrant markets.\n",
            "\n",
            "3. Varanasi, Uttar Pradesh: Considered one of the oldest inhabited cities in the world, Varanasi is a sacred place for Hindus. It is famous for its ghats (steps leading to the river), where people perform religious rituals and witness mesmerizing evening aarti ceremonies.\n",
            "\n",
            "4. Kerala Backwaters: Experience the serene beauty of Kerala's backwaters by taking a houseboat cruise through the interconnected network of canals, lakes, and lagoons.\n",
            "\n",
            "5. Goa: Known for its beautiful beaches, vibrant nightlife, and Portuguese influence, Goa is a popular destination for relaxation and water sports.\n",
            "\n",
            "6. Amritsar, Punjab: Visit the Golden Temple, the holiest Sikh shrine, and witness the community kitchen (langar) that serves free meals to thousands of people every day.\n",
            "\n",
            "7. Udaipur, Rajasthan: Often called the \"City of Lakes,\" Udaipur is famous for its stunning palaces, including the Lake Palace, which appears to float on the water.\n",
            "\n",
            "8. Mysore, Karnataka: Explore the opulent Mysore Palace, witness the grandeur of the Dasara festival, and visit the nearby Brindavan Gardens.\n",
            "\n",
            "9. Ladakh, Jammu and Kashmir: Known for its breathtaking landscapes, high-altitude lakes, and monasteries, Ladakh offers a unique experience for adventure enthusiasts and nature lovers.\n",
            "\n",
            "10. Hampi, Karnataka: Discover the ruins of the ancient Vijayanagara Empire, including magnificent temples, palaces, and stone chariots.\n",
            "\n",
            "These are just a few suggestions, and India has much more to offer in terms of historical sites, natural beauty, and cultural experiences.\n"
          ]
        }
      ]
    },
    {
      "cell_type": "code",
      "source": [
        "question = \"Do you know What is my name?\"\n",
        "result = qa({\"question\": question})\n",
        "result['answer']"
      ],
      "metadata": {
        "colab": {
          "base_uri": "https://localhost:8080/",
          "height": 36
        },
        "id": "HT_Zpvc_rEUI",
        "outputId": "bae63415-a475-4468-ad2c-b10fc0e84988"
      },
      "execution_count": 203,
      "outputs": [
        {
          "output_type": "execute_result",
          "data": {
            "text/plain": [
              "'I am an AI language model and do not have a personal name. You can refer to me as OpenAI or ChatGPT. How can I assist you today?'"
            ],
            "application/vnd.google.colaboratory.intrinsic+json": {
              "type": "string"
            }
          },
          "metadata": {},
          "execution_count": 203
        }
      ]
    }
  ]
}